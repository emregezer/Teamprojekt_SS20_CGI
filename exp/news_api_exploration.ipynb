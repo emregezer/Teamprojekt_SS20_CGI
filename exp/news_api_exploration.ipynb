{
 "cells": [
  {
   "cell_type": "markdown",
   "metadata": {},
   "source": [
    "# News API\n",
    "\n",
    "Sample request:\n",
    "http://newsapi.org/v2/everything?q=bitcoin&from=2020-05-04&sortBy=publishedAt&apiKey=a934916a92fb4734aa83ae3fd5e5ba3e"
   ]
  },
  {
   "cell_type": "code",
   "execution_count": 35,
   "metadata": {},
   "outputs": [],
   "source": [
    "import requests\n",
    "import urllib.parse\n",
    "\n",
    "import pandas as pd\n",
    "import matplotlib.pyplot as plt\n",
    "import seaborn as sns; sns.set()"
   ]
  },
  {
   "cell_type": "code",
   "execution_count": 5,
   "metadata": {},
   "outputs": [],
   "source": [
    "BASE_API_URL = \"http://newsapi.org/v2/\"\n",
    "NEWS_API_KEY = \"a934916a92fb4734aa83ae3fd5e5ba3e\""
   ]
  },
  {
   "cell_type": "markdown",
   "metadata": {},
   "source": [
    "## Sample request for `everything` endpoint"
   ]
  },
  {
   "cell_type": "code",
   "execution_count": 33,
   "metadata": {},
   "outputs": [
    {
     "output_type": "execute_result",
     "data": {
      "text/plain": "'http://newsapi.org/v2/everything?q=starbucks&from=2020-05-10&language=en&sortBy=popularity&pageSize=100&apiKey=a934916a92fb4734aa83ae3fd5e5ba3e'"
     },
     "metadata": {},
     "execution_count": 33
    }
   ],
   "source": [
    "search_term = \"starbucks\"\n",
    "from_date = \"2020-05-10\"\n",
    "\n",
    "query_params = {\n",
    "    \"q\": urllib.parse.quote_plus(search_term),\n",
    "    \"from\": from_date,\n",
    "    \"language\": \"en\",\n",
    "    \"sortBy\": \"popularity\",\n",
    "    \"pageSize\": 100,\n",
    "    \"apiKey\": NEWS_API_KEY,\n",
    "}"
   ]
  },
  {
   "cell_type": "code",
   "execution_count": 34,
   "metadata": {},
   "outputs": [
    {
     "output_type": "stream",
     "name": "stdout",
     "text": "Status code: 200\n"
    }
   ],
   "source": [
    "response = requests.get(url=f\"{BASE_API_URL}everything\", params=query_params)\n",
    "response.raise_for_status()\n",
    "response_json = response.json()"
   ]
  },
  {
   "cell_type": "code",
   "execution_count": 27,
   "metadata": {},
   "outputs": [],
   "source": [
    "articles = response_json.get(\"articles\")"
   ]
  },
  {
   "cell_type": "code",
   "execution_count": 28,
   "metadata": {},
   "outputs": [],
   "source": [
    "all_search_term_headline_articles = [a for a in articles if search_term in a.get(\"title\").lower()]"
   ]
  },
  {
   "cell_type": "code",
   "execution_count": 29,
   "metadata": {},
   "outputs": [
    {
     "output_type": "execute_result",
     "data": {
      "text/plain": "ParseResult(scheme='', netloc='', path='starbucks', params='', query='', fragment='')"
     },
     "metadata": {},
     "execution_count": 29
    }
   ],
   "source": []
  },
  {
   "cell_type": "code",
   "execution_count": null,
   "metadata": {},
   "outputs": [],
   "source": []
  }
 ],
 "metadata": {
  "language_info": {
   "codemirror_mode": {
    "name": "ipython",
    "version": 3
   },
   "file_extension": ".py",
   "mimetype": "text/x-python",
   "name": "python",
   "nbconvert_exporter": "python",
   "pygments_lexer": "ipython3",
   "version": "3.8.2-final"
  },
  "orig_nbformat": 2,
  "kernelspec": {
   "name": "python3",
   "display_name": "Python 3"
  }
 },
 "nbformat": 4,
 "nbformat_minor": 2
}