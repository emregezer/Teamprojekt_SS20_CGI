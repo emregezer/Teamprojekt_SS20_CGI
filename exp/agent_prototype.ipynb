{
 "cells": [
  {
   "cell_type": "markdown",
   "metadata": {
    "tags": []
   },
   "source": [
    "# Steps\n",
    "✅ Get dataset of 20 stock from database (.csv) <br>\n",
    "⬜ "
   ]
  },
  {
   "cell_type": "markdown",
   "metadata": {},
   "source": [
    "# Further ideas\n",
    "1. Give multiple subsets of stocks (e.g. \"Becky\" as a strategy)\n"
   ]
  },
  {
   "cell_type": "markdown",
   "metadata": {},
   "source": [
    "# Selected stocks\n",
    "20 stocks were randomly selected from the S&P 500 pool"
   ]
  },
  {
   "cell_type": "code",
   "execution_count": 4,
   "metadata": {
    "ExecuteTime": {
     "end_time": "2020-07-03T10:20:27.685841Z",
     "start_time": "2020-07-03T10:20:27.681832Z"
    }
   },
   "outputs": [],
   "source": [
    "stock_symbols = ['MCD', 'ESS', 'ABC', 'PFE', 'MA', 'GWW', 'AOS', 'GD', 'YUM', 'LOW', 'ALB', 'IFF', 'TPR', 'CB', 'ANTM', 'WAT', 'CPB', 'IPGP', 'SBUX', 'HSY']"
   ]
  },
  {
   "cell_type": "markdown",
   "metadata": {},
   "source": [
    "## Imports"
   ]
  },
  {
   "cell_type": "code",
   "execution_count": 57,
   "metadata": {
    "ExecuteTime": {
     "end_time": "2020-07-03T11:21:28.339960Z",
     "start_time": "2020-07-03T11:21:28.336960Z"
    }
   },
   "outputs": [],
   "source": [
    "from typing import Dict\n",
    "\n",
    "import operator\n",
    "import requests\n",
    "import os\n",
    "import pandas as pd\n",
    "import time\n",
    "from alpha_vantage.timeseries import TimeSeries"
   ]
  },
  {
   "cell_type": "markdown",
   "metadata": {},
   "source": [
    "## Getting the data"
   ]
  },
  {
   "cell_type": "code",
   "execution_count": 6,
   "metadata": {
    "ExecuteTime": {
     "end_time": "2020-07-03T10:20:37.651966Z",
     "start_time": "2020-07-03T10:20:37.649966Z"
    }
   },
   "outputs": [],
   "source": [
    "API_KEY = \"1077F37TLBGNSVY2\""
   ]
  },
  {
   "cell_type": "code",
   "execution_count": null,
   "metadata": {},
   "outputs": [],
   "source": [
    "full_data = []\n",
    "\n",
    "for symbol in stock_symbols:\n",
    "    query_params[\"symbol\"] = symbol\n",
    "    resp = requests.get(url=url, params=query_params)\n",
    "    resp.raise_for_status()"
   ]
  },
  {
   "cell_type": "code",
   "execution_count": 8,
   "metadata": {
    "ExecuteTime": {
     "end_time": "2020-07-03T10:21:11.718998Z",
     "start_time": "2020-07-03T10:21:11.714998Z"
    }
   },
   "outputs": [],
   "source": [
    "STANDARD_DELAY = 60 // 5\n",
    "DATA_DIR_PATH = r\"C:\\Users\\Jonas\\Desktop\\CGI\\dev\\exp\\data\"\n",
    "ts = TimeSeries(key=API_KEY, output_format=\"pandas\")\n",
    "\n",
    "CSV_COLS = [\"symbol\", \"date\", \"1. open\", \"2. high\", \"3. low\", \"4. close\", \"5. adjusted close\",\n",
    "           \"6. volume\", \"7. dividend amount\", \"8. split coefficient\"]"
   ]
  },
  {
   "cell_type": "markdown",
   "metadata": {},
   "source": [
    "### Writing from av API to .csv files"
   ]
  },
  {
   "cell_type": "code",
   "execution_count": 9,
   "metadata": {
    "ExecuteTime": {
     "end_time": "2020-07-03T10:21:41.713955Z",
     "start_time": "2020-07-03T10:21:13.499483Z"
    },
    "tags": []
   },
   "outputs": [
    {
     "name": "stdout",
     "output_type": "stream",
     "text": [
      "Appended stock 0: <MCD>. Waiting...\n",
      "Appended stock 1: <ESS>. Waiting...\n"
     ]
    },
    {
     "ename": "KeyboardInterrupt",
     "evalue": "",
     "output_type": "error",
     "traceback": [
      "\u001b[1;31m---------------------------------------------------------------------------\u001b[0m",
      "\u001b[1;31mKeyboardInterrupt\u001b[0m                         Traceback (most recent call last)",
      "\u001b[1;32m<ipython-input-9-eef2c1d16c1e>\u001b[0m in \u001b[0;36m<module>\u001b[1;34m\u001b[0m\n\u001b[0;32m      7\u001b[0m     \u001b[0mmaster_df\u001b[0m\u001b[1;33m.\u001b[0m\u001b[0mappend\u001b[0m\u001b[1;33m(\u001b[0m\u001b[0mother\u001b[0m\u001b[1;33m=\u001b[0m\u001b[0mdf\u001b[0m\u001b[1;33m)\u001b[0m\u001b[1;33m\u001b[0m\u001b[1;33m\u001b[0m\u001b[0m\n\u001b[0;32m      8\u001b[0m     \u001b[0mprint\u001b[0m\u001b[1;33m(\u001b[0m\u001b[1;34mf\"Appended stock {idx}: <{symbol}>. Waiting...\"\u001b[0m\u001b[1;33m)\u001b[0m\u001b[1;33m\u001b[0m\u001b[1;33m\u001b[0m\u001b[0m\n\u001b[1;32m----> 9\u001b[1;33m     \u001b[0mtime\u001b[0m\u001b[1;33m.\u001b[0m\u001b[0msleep\u001b[0m\u001b[1;33m(\u001b[0m\u001b[0mSTANDARD_DELAY\u001b[0m\u001b[1;33m)\u001b[0m\u001b[1;33m\u001b[0m\u001b[1;33m\u001b[0m\u001b[0m\n\u001b[0m",
      "\u001b[1;31mKeyboardInterrupt\u001b[0m: "
     ]
    }
   ],
   "source": [
    "master_df = pd.DataFrame(columns=CSV_COLS)\n",
    "\n",
    "for idx, symbol in enumerate(stock_symbols):\n",
    "#     file_path = os.path.join(DATA_DIR_PATH, f\"{symbol}.csv\")\n",
    "    df, _ = ts.get_daily_adjusted(symbol=symbol, outputsize=\"full\")\n",
    "    df[\"symbol\"] = symbol\n",
    "    master_df.append(other=df)\n",
    "    print(f\"Appended stock {idx}: <{symbol}>. Waiting...\")\n",
    "    time.sleep(STANDARD_DELAY)"
   ]
  },
  {
   "cell_type": "markdown",
   "metadata": {},
   "source": [
    "### Merging all .csv files"
   ]
  },
  {
   "cell_type": "code",
   "execution_count": 10,
   "metadata": {
    "ExecuteTime": {
     "end_time": "2020-07-03T10:21:45.236365Z",
     "start_time": "2020-07-03T10:21:45.229355Z"
    }
   },
   "outputs": [],
   "source": [
    "file_names = [os.path.join(DATA_DIR_PATH, f) for f in os.listdir(DATA_DIR_PATH) if os.path.isfile(os.path.join(DATA_DIR_PATH, f))]"
   ]
  },
  {
   "cell_type": "code",
   "execution_count": 11,
   "metadata": {
    "ExecuteTime": {
     "end_time": "2020-07-03T10:21:46.001008Z",
     "start_time": "2020-07-03T10:21:45.764955Z"
    }
   },
   "outputs": [],
   "source": [
    "df_list = []\n",
    "for f in file_names:\n",
    "    df = pd.read_csv(f, index_col=None, header=0)\n",
    "    df['symbol'] = f.split(\"\\\\\")[-1].split(\".\")[0]\n",
    "    df_list.append(df)\n",
    "    \n",
    "df = pd.concat(df_list, axis=0, ignore_index=True)"
   ]
  },
  {
   "cell_type": "markdown",
   "metadata": {},
   "source": [
    "### Preprocessing"
   ]
  },
  {
   "cell_type": "code",
   "execution_count": 12,
   "metadata": {
    "ExecuteTime": {
     "end_time": "2020-07-03T10:21:48.727999Z",
     "start_time": "2020-07-03T10:21:48.724998Z"
    }
   },
   "outputs": [],
   "source": [
    "PRICE_COLUMNS = [\n",
    "    'date',\n",
    "    'open',\n",
    "    'high',\n",
    "    'low',\n",
    "    'close',\n",
    "    'adjusted_close',\n",
    "    'volume',\n",
    "    'dividend_amount',\n",
    "    'split_coefficient',\n",
    "    'symbol'\n",
    "]"
   ]
  },
  {
   "cell_type": "code",
   "execution_count": 13,
   "metadata": {
    "ExecuteTime": {
     "end_time": "2020-07-03T10:21:49.619957Z",
     "start_time": "2020-07-03T10:21:49.605946Z"
    }
   },
   "outputs": [],
   "source": [
    "cols_to_rename = {}\n",
    "for c in df.columns:\n",
    "    cols_to_rename[c] = \"\".join(list(filter(lambda s: s.isalpha() or s == \" \", c))).strip()\n",
    "    cols_to_rename[c] = cols_to_rename[c].replace(\" \", \"_\")\n",
    "    \n",
    "df.rename(columns=cols_to_rename, inplace=True)"
   ]
  },
  {
   "cell_type": "code",
   "execution_count": 14,
   "metadata": {
    "ExecuteTime": {
     "end_time": "2020-07-03T10:21:52.173009Z",
     "start_time": "2020-07-03T10:21:52.092991Z"
    }
   },
   "outputs": [
    {
     "data": {
      "text/plain": [
       "date                 datetime64[ns]\n",
       "open                        float64\n",
       "high                        float64\n",
       "low                         float64\n",
       "close                       float64\n",
       "adjusted_close              float64\n",
       "volume                      float64\n",
       "dividend_amount             float64\n",
       "split_coefficient           float64\n",
       "symbol                       string\n",
       "dtype: object"
      ]
     },
     "execution_count": 14,
     "metadata": {},
     "output_type": "execute_result"
    }
   ],
   "source": [
    "df['date'] = pd.to_datetime(df['date'])\n",
    "df['symbol'] = df['symbol'].astype(\"string\") # even though this doesn't do anything\n",
    "df.dtypes"
   ]
  },
  {
   "cell_type": "markdown",
   "metadata": {},
   "source": [
    "# Algorithm"
   ]
  },
  {
   "cell_type": "markdown",
   "metadata": {},
   "source": [
    "## Class definitions"
   ]
  },
  {
   "cell_type": "code",
   "execution_count": 94,
   "metadata": {
    "ExecuteTime": {
     "end_time": "2020-07-03T11:46:46.545032Z",
     "start_time": "2020-07-03T11:46:46.535031Z"
    }
   },
   "outputs": [],
   "source": [
    "class Market:\n",
    "    def __init__(self, prices: pd.DataFrame, name: str = \"\"):\n",
    "        assert all([c in PRICE_COLUMNS for c in prices.columns]), \\\n",
    "            \"Wrong columns!\"\n",
    "        self.prices = prices\n",
    "        # sort by date ascending, then by symbol descending\n",
    "        self.prices.sort_values(by=[\"date\", \"symbol\"], inplace=True, ascending=[True, False])\n",
    "        self.name = name or \"default_market\"\n",
    "    \n",
    "    @property\n",
    "    def symbols(self):\n",
    "        return list(self.prices.symbol.unique())\n",
    "    \n",
    "    def __iter__(self):\n",
    "        self.curr = 1\n",
    "        return self\n",
    "    \n",
    "    def __len__(self):\n",
    "        return len(self.prices)\n",
    "    \n",
    "    def __next__(self) -> pd.DataFrame:\n",
    "        if self.curr < len(self.prices.date.unique()):\n",
    "            \n",
    "            self.max_date = self.prices.date.sort_values().unique()[self.curr - 1]\n",
    "            state = self.prices.loc[self.prices.date <= self.max_date]\n",
    "            self.curr += 1\n",
    "            return state\n",
    "        else:\n",
    "            #  we are on the last date of the prices > exit the iteration\n",
    "            raise StopIteration\n",
    "    \n",
    "    def __str__(self):\n",
    "        return f\"Market [{self.name}] (current market_date: {self.max_date})\""
   ]
  },
  {
   "cell_type": "markdown",
   "metadata": {},
   "source": [
    "#### Calculation of dividend yield\n",
    "__On certain date (choose 01/02):__\n",
    "1. Get the last paid dividend amount from prev. year := `dividend_payment`\n",
    "2. Multiply by the number of times dividends were paid last year (mostly: 4) := `dividend_total`\n",
    "3. divide `dividend_total` by `current_share_price`"
   ]
  },
  {
   "cell_type": "code",
   "execution_count": 16,
   "metadata": {
    "ExecuteTime": {
     "end_time": "2020-07-03T10:21:58.239951Z",
     "start_time": "2020-07-03T10:21:58.236950Z"
    }
   },
   "outputs": [],
   "source": [
    "from collections import namedtuple\n",
    "\n",
    "Transaction = namedtuple(\n",
    "    \"Transaction\", \n",
    "    field_names=[\"symbol\", \"amount\", \"date\", \"stock_price\", \"total_value\"]\n",
    ")"
   ]
  },
  {
   "cell_type": "markdown",
   "metadata": {},
   "source": [
    "#### Strategy Interface (subclass from this)"
   ]
  },
  {
   "cell_type": "code",
   "execution_count": 18,
   "metadata": {
    "ExecuteTime": {
     "end_time": "2020-07-03T10:22:01.929418Z",
     "start_time": "2020-07-03T10:22:01.925418Z"
    }
   },
   "outputs": [],
   "source": [
    "class Strategy:\n",
    "    def __init__(self, name: str):\n",
    "        self.name = name\n",
    "    \n",
    "    def weight(self, market_state: pd.DataFrame) -> Dict[str, float]:\n",
    "        pass"
   ]
  },
  {
   "cell_type": "markdown",
   "metadata": {},
   "source": [
    "__Code behavior:__\n",
    "1. ✅ Check if it's the first trading date of that year\n",
    "2. ✅ Check if we have a previous year\n",
    "3. ✅ Get the last-paid dividend of prev. year := `last_paid_div`\n",
    "4. ✅ Get count of dividends payed of last year per stock := `num_div_paid`\n",
    "5. ✅ last_paid_div * num_div_paid := `projected_div_amount`\n",
    "6. ✅Apply weights (how? => all in on highest value stock)"
   ]
  },
  {
   "cell_type": "markdown",
   "metadata": {},
   "source": [
    "#### Dogs of the Stocks - Strategy implementation"
   ]
  },
  {
   "cell_type": "code",
   "execution_count": 86,
   "metadata": {
    "ExecuteTime": {
     "end_time": "2020-07-03T11:35:34.756941Z",
     "start_time": "2020-07-03T11:35:34.742938Z"
    }
   },
   "outputs": [],
   "source": [
    "class DogsOfTheStocks(Strategy):\n",
    "    def __init__(self, *args, **kwargs):\n",
    "        super().__init__(*args, **kwargs)\n",
    "    \n",
    "    def weight(self, market_state: pd.DataFrame) -> Dict[str, float]:\n",
    "        # make default weight map\n",
    "        weights = {}\n",
    "        stocks = set(market_state.symbol.unique())\n",
    "        for stock in stocks:\n",
    "            weights[stock] = 0.\n",
    "        \n",
    "        current_date = market_state.date.max()\n",
    "        if current_date.year == market_state.date.min().year:\n",
    "            # there is no previous year\n",
    "            return weights\n",
    "        if current_date == market_state.loc[market_state.date.dt.year == current_date.year].date.min():\n",
    "            # it's the first trading day of the current year\n",
    "            prev_year = current_date.year - 1\n",
    "            last_paid_divs = {}\n",
    "            # all dividends paid last year\n",
    "            divs = market_state.loc[(market_state.dividend_amount != 0.) & (market_state.date.dt.year == prev_year)].sort_values(by=\"date\")\n",
    "            for stock in stocks:\n",
    "                # for every stock:\n",
    "                # > get last paid dividend of prev. year\n",
    "                # > get amount of times dividends were paid last year\n",
    "                last_paid_divs[stock] = {}\n",
    "                try:\n",
    "                    last_paid_divs[stock][\"amount\"] = divs.loc[divs.symbol == stock].dividend_amount.values[-1]\n",
    "                except IndexError:\n",
    "                    last_paid_divs[stock][\"amount\"] = 0\n",
    "                last_paid_divs[stock][\"times_paid\"] = len(divs.loc[divs.symbol == stock])\n",
    "                \n",
    "                div_values = {}\n",
    "#                 display(divs)\n",
    "                for stock, dividend_data in last_paid_divs.items():\n",
    "                    # for every stock: multiply last paid dividend by number of times div\n",
    "                    # were paid last year,\n",
    "                    # and divide by the current stock price\n",
    "                    current_price = market_state.loc[(market_state.date == current_date) & (market_state.symbol == stock)].close.values[0]\n",
    "                    div_values[stock] = dividend_data[\"amount\"] * dividend_data[\"times_paid\"] / current_price\n",
    "                \n",
    "                # pick stock with highest relative dividend value,\n",
    "                # and  assign weight of 1\n",
    "                # TODO(jonas): weight relative to %share of total\n",
    "            highest_value_stock = max(div_values.items(), key=operator.itemgetter(1))[0]\n",
    "            weights[highest_value_stock] = 1\n",
    "        \n",
    "        return weights"
   ]
  },
  {
   "cell_type": "code",
   "execution_count": 100,
   "metadata": {
    "ExecuteTime": {
     "end_time": "2020-07-03T11:54:43.022954Z",
     "start_time": "2020-07-03T11:54:43.012953Z"
    }
   },
   "outputs": [],
   "source": [
    "class Agent:\n",
    "    def __init__(self, starting_capital: float, market: Market, strategy: Strategy, name: str):\n",
    "        # TODO(jonas): implement agent getting new cash every [x interval]\n",
    "        self.cash = starting_capital\n",
    "        self.market = market\n",
    "        self.strategy = strategy\n",
    "        self.name = name\n",
    "        self.portfolio = {}\n",
    "        self.trading_history = []\n",
    "    \n",
    "    def run_simulation(self):\n",
    "        # TODO(jonas): agent gets divivends\n",
    "        for state in market:\n",
    "            self.state = state\n",
    "            weights = self.strategy.weight(market_state=self.state)\n",
    "            for stock, weight in weights.items():\n",
    "                if weight != 0:\n",
    "                    print(f\"Purchase recommendation for: {stock}\\n\")\n",
    "                    print(weights)\n",
    "                    print(\"\\n===============================================\\n\")\n",
    "                    break\n",
    "                    \n",
    "    def buy(self, stock_symbol: str, stock_price: float, amount: int, date):\n",
    "        total_price = amount * stock_price\n",
    "        assert self.cash - total_price >= 0, \"Can't spend more than you have!\"\n",
    "        self.cash -= total_price\n",
    "        self.portfolio[stock_symbol] = self.portfolio.get(stock_symbol, 0) + amount\n",
    "        transaction = Transaction(\n",
    "            symbol=stock_symbol,\n",
    "            amount=amount,\n",
    "            date=date,\n",
    "            stock_price=stock_price,\n",
    "            total_value=total_price,\n",
    "        )\n",
    "        self.trading_history.append(transaction)"
   ]
  },
  {
   "cell_type": "markdown",
   "metadata": {},
   "source": [
    "### Testing"
   ]
  },
  {
   "cell_type": "code",
   "execution_count": 102,
   "metadata": {
    "ExecuteTime": {
     "end_time": "2020-07-03T12:21:34.511465Z",
     "start_time": "2020-07-03T12:21:28.233454Z"
    }
   },
   "outputs": [
    {
     "name": "stderr",
     "output_type": "stream",
     "text": [
      "C:\\Users\\Jonas\\Anaconda3\\lib\\site-packages\\ipykernel_launcher.py:7: SettingWithCopyWarning: \n",
      "A value is trying to be set on a copy of a slice from a DataFrame\n",
      "\n",
      "See the caveats in the documentation: https://pandas.pydata.org/pandas-docs/stable/user_guide/indexing.html#returning-a-view-versus-a-copy\n",
      "  import sys\n"
     ]
    },
    {
     "name": "stdout",
     "output_type": "stream",
     "text": [
      "Purchase recommendation for: PFE\n",
      "\n",
      "{'ABC': 0.0, 'MA': 0.0, 'ALB': 0.0, 'AOS': 0.0, 'ANTM': 0.0, 'MCD': 0.0, 'LOW': 0.0, 'GWW': 0.0, 'CPB': 0.0, 'WAT': 0.0, 'ESS': 0.0, 'TPR': 0.0, 'HSY': 0.0, 'GD': 0.0, 'IPGP': 0.0, 'IFF': 0.0, 'PFE': 1, 'YUM': 0.0, 'SBUX': 0.0, 'CB': 0.0}\n",
      "\n",
      "===============================================\n",
      "\n",
      "Purchase recommendation for: CPB\n",
      "\n",
      "{'ABC': 0.0, 'MA': 0.0, 'ALB': 0.0, 'AOS': 0.0, 'ANTM': 0.0, 'MCD': 0.0, 'LOW': 0.0, 'GWW': 0.0, 'CPB': 1, 'WAT': 0.0, 'ESS': 0.0, 'TPR': 0.0, 'HSY': 0.0, 'GD': 0.0, 'IPGP': 0.0, 'IFF': 0.0, 'PFE': 0.0, 'YUM': 0.0, 'SBUX': 0.0, 'CB': 0.0}\n",
      "\n",
      "===============================================\n",
      "\n",
      "Purchase recommendation for: TPR\n",
      "\n",
      "{'ABC': 0.0, 'MA': 0.0, 'ALB': 0.0, 'AOS': 0.0, 'ANTM': 0.0, 'MCD': 0.0, 'LOW': 0.0, 'GWW': 0.0, 'CPB': 0.0, 'WAT': 0.0, 'ESS': 0.0, 'TPR': 1, 'HSY': 0.0, 'GD': 0.0, 'IPGP': 0.0, 'IFF': 0.0, 'PFE': 0.0, 'YUM': 0.0, 'SBUX': 0.0, 'CB': 0.0}\n",
      "\n",
      "===============================================\n",
      "\n"
     ]
    }
   ],
   "source": [
    "market = Market(prices=df.loc[df.date.dt.year.isin([2017, 2018, 2019, 2020])], name=\"test\")\n",
    "strategy = DogsOfTheStocks(name=\"DogsOfTheStocks\")\n",
    "agent = Agent(\n",
    "    starting_capital=10_000,\n",
    "    market=market,\n",
    "    strategy=strategy,\n",
    "    name=\"test\"\n",
    ")\n",
    "\n",
    "agent.run_simulation()"
   ]
  },
  {
   "cell_type": "code",
   "execution_count": 127,
   "metadata": {
    "ExecuteTime": {
     "end_time": "2020-07-01T17:30:19.598278Z",
     "start_time": "2020-07-01T17:30:19.595277Z"
    }
   },
   "outputs": [],
   "source": [
    "t = Transaction(symbol=\"AAPL\", amount=10, date=\"2020-01-01\", stock_price=3000.00, total_value=30_000.00)"
   ]
  },
  {
   "cell_type": "code",
   "execution_count": 128,
   "metadata": {
    "ExecuteTime": {
     "end_time": "2020-07-01T17:30:23.054440Z",
     "start_time": "2020-07-01T17:30:23.050439Z"
    }
   },
   "outputs": [
    {
     "data": {
      "text/plain": [
       "10"
      ]
     },
     "execution_count": 128,
     "metadata": {},
     "output_type": "execute_result"
    }
   ],
   "source": [
    "t.amount"
   ]
  }
 ],
 "metadata": {
  "kernelspec": {
   "display_name": "Python 3",
   "language": "python",
   "name": "python3"
  },
  "language_info": {
   "codemirror_mode": {
    "name": "ipython",
    "version": 3
   },
   "file_extension": ".py",
   "mimetype": "text/x-python",
   "name": "python",
   "nbconvert_exporter": "python",
   "pygments_lexer": "ipython3",
   "version": "3.7.6"
  },
  "toc": {
   "base_numbering": 1,
   "nav_menu": {},
   "number_sections": true,
   "sideBar": true,
   "skip_h1_title": false,
   "title_cell": "Table of Contents",
   "title_sidebar": "Contents",
   "toc_cell": false,
   "toc_position": {},
   "toc_section_display": true,
   "toc_window_display": true
  },
  "varInspector": {
   "cols": {
    "lenName": 16,
    "lenType": 16,
    "lenVar": 40
   },
   "kernels_config": {
    "python": {
     "delete_cmd_postfix": "",
     "delete_cmd_prefix": "del ",
     "library": "var_list.py",
     "varRefreshCmd": "print(var_dic_list())"
    },
    "r": {
     "delete_cmd_postfix": ") ",
     "delete_cmd_prefix": "rm(",
     "library": "var_list.r",
     "varRefreshCmd": "cat(var_dic_list()) "
    }
   },
   "types_to_exclude": [
    "module",
    "function",
    "builtin_function_or_method",
    "instance",
    "_Feature"
   ],
   "window_display": false
  }
 },
 "nbformat": 4,
 "nbformat_minor": 2
}
