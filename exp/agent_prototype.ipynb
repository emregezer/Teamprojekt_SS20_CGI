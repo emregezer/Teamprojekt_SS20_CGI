{
 "cells": [
  {
   "cell_type": "markdown",
   "metadata": {
    "tags": []
   },
   "source": [
    "# Steps\n",
    "1. Get dataset of 20 stock from database (.csv)\n",
    "2. "
   ]
  },
  {
   "cell_type": "markdown",
   "metadata": {},
   "source": [
    "# Further ideas\n",
    "1. Give multiple subsets of stocks (e.g. \"Becky\" as a strategy)\n"
   ]
  },
  {
   "cell_type": "markdown",
   "metadata": {},
   "source": [
    "# Selected stocks\n",
    "20 stocks were randomly selected from the S&P 500 pool"
   ]
  },
  {
   "cell_type": "code",
   "execution_count": 10,
   "metadata": {
    "ExecuteTime": {
     "end_time": "2020-06-25T17:14:38.945058Z",
     "start_time": "2020-06-25T17:14:38.942056Z"
    }
   },
   "outputs": [],
   "source": [
    "stock_symbols = ['MCD', 'ESS', 'ABC', 'PFE', 'MA', 'GWW', 'AOS', 'GD', 'YUM', 'LOW', 'ALB', 'IFF', 'TPR', 'CB', 'ANTM', 'WAT', 'CPB', 'IPGP', 'SBUX', 'HSY']"
   ]
  },
  {
   "cell_type": "markdown",
   "metadata": {},
   "source": [
    "## Imports"
   ]
  },
  {
   "cell_type": "code",
   "execution_count": 3,
   "metadata": {
    "ExecuteTime": {
     "end_time": "2020-06-25T17:13:24.800186Z",
     "start_time": "2020-06-25T17:13:24.794185Z"
    }
   },
   "outputs": [],
   "source": [
    "import requests\n",
    "import os\n",
    "import pandas as pd\n",
    "import time\n",
    "from alpha_vantage.timeseries import TimeSeries"
   ]
  },
  {
   "cell_type": "markdown",
   "metadata": {},
   "source": [
    "## Getting the data"
   ]
  },
  {
   "cell_type": "code",
   "execution_count": 6,
   "metadata": {
    "ExecuteTime": {
     "end_time": "2020-06-25T17:13:36.861162Z",
     "start_time": "2020-06-25T17:13:36.859162Z"
    }
   },
   "outputs": [],
   "source": [
    "API_KEY = \"1077F37TLBGNSVY2\""
   ]
  },
  {
   "cell_type": "code",
   "execution_count": null,
   "metadata": {},
   "outputs": [],
   "source": [
    "full_data = []\n",
    "\n",
    "for symbol in stock_symbols:\n",
    "    query_params[\"symbol\"] = symbol\n",
    "    resp = requests.get(url=url, params=query_params)\n",
    "    resp.raise_for_status()"
   ]
  },
  {
   "cell_type": "code",
   "execution_count": 7,
   "metadata": {
    "ExecuteTime": {
     "end_time": "2020-06-25T17:13:38.766213Z",
     "start_time": "2020-06-25T17:13:38.763213Z"
    }
   },
   "outputs": [],
   "source": [
    "STANDARD_DELAY = 60 // 5\n",
    "DATA_DIR_PATH = r\"C:\\Users\\Jonas\\Desktop\\CGI\\dev\\exp\\data\"\n",
    "ts = TimeSeries(key=API_KEY, output_format=\"pandas\")\n",
    "\n",
    "CSV_COLS = [\"symbol\", \"date\", \"1. open\", \"2. high\", \"3. low\", \"4. close\", \"5. adjusted close\",\n",
    "           \"6. volume\", \"7. dividend amount\", \"8. split coefficient\"]"
   ]
  },
  {
   "cell_type": "code",
   "execution_count": 11,
   "metadata": {
    "ExecuteTime": {
     "end_time": "2020-06-25T17:19:52.256189Z",
     "start_time": "2020-06-25T17:14:40.870217Z"
    },
    "tags": []
   },
   "outputs": [
    {
     "name": "stdout",
     "output_type": "stream",
     "text": [
      "Appended stock MCD. Waiting...\n",
      "Appended stock ESS. Waiting...\n",
      "Appended stock ABC. Waiting...\n",
      "Appended stock PFE. Waiting...\n",
      "Appended stock MA. Waiting...\n",
      "Appended stock GWW. Waiting...\n",
      "Appended stock AOS. Waiting...\n",
      "Appended stock GD. Waiting...\n",
      "Appended stock YUM. Waiting...\n",
      "Appended stock LOW. Waiting...\n",
      "Appended stock ALB. Waiting...\n",
      "Appended stock IFF. Waiting...\n",
      "Appended stock TPR. Waiting...\n",
      "Appended stock CB. Waiting...\n",
      "Appended stock ANTM. Waiting...\n",
      "Appended stock WAT. Waiting...\n",
      "Appended stock CPB. Waiting...\n",
      "Appended stock IPGP. Waiting...\n",
      "Appended stock SBUX. Waiting...\n",
      "Appended stock HSY. Waiting...\n"
     ]
    }
   ],
   "source": [
    "master_df = pd.DataFrame(columns=CSV_COLS)\n",
    "\n",
    "for idx, symbol in enumerate(stock_symbols):\n",
    "#     file_path = os.path.join(DATA_DIR_PATH, f\"{symbol}.csv\")\n",
    "    df, _ = ts.get_daily_adjusted(symbol=symbol, outputsize=\"full\")\n",
    "    df[\"symbol\"] = symbol\n",
    "    master_df.append(other=df)\n",
    "    print(f\"Appended stock {idx}: <{symbol}>. Waiting...\")\n",
    "    time.sleep(STANDARD_DELAY)"
   ]
  },
  {
   "cell_type": "code",
   "execution_count": 16,
   "metadata": {
    "ExecuteTime": {
     "end_time": "2020-06-25T17:23:06.288366Z",
     "start_time": "2020-06-25T17:23:06.282366Z"
    }
   },
   "outputs": [],
   "source": [
    "file_names = [os.path.join(DATA_DIR_PATH, f) for f in os.listdir(DATA_DIR_PATH) if os.path.isfile(os.path.join(DATA_DIR_PATH, f))]"
   ]
  },
  {
   "cell_type": "code",
   "execution_count": 20,
   "metadata": {
    "ExecuteTime": {
     "end_time": "2020-06-25T17:25:35.043219Z",
     "start_time": "2020-06-25T17:25:34.817874Z"
    }
   },
   "outputs": [],
   "source": [
    "df_list = []\n",
    "for f in file_names:\n",
    "    df = pd.read_csv(f, index_col=None, header=0)\n",
    "    df['symbol'] = f.split(\"\\\\\")[-1].split(\".\")[0]\n",
    "    df_list.append(df)\n",
    "    \n",
    "df = pd.concat(df_list, axis=0, ignore_index=True)"
   ]
  },
  {
   "cell_type": "code",
   "execution_count": null,
   "metadata": {},
   "outputs": [],
   "source": []
  }
 ],
 "metadata": {
  "kernelspec": {
   "display_name": "Python 3",
   "language": "python",
   "name": "python3"
  },
  "language_info": {
   "codemirror_mode": {
    "name": "ipython",
    "version": 3
   },
   "file_extension": ".py",
   "mimetype": "text/x-python",
   "name": "python",
   "nbconvert_exporter": "python",
   "pygments_lexer": "ipython3",
   "version": "3.7.6"
  },
  "toc": {
   "base_numbering": 1,
   "nav_menu": {},
   "number_sections": true,
   "sideBar": true,
   "skip_h1_title": false,
   "title_cell": "Table of Contents",
   "title_sidebar": "Contents",
   "toc_cell": false,
   "toc_position": {},
   "toc_section_display": true,
   "toc_window_display": true
  },
  "varInspector": {
   "cols": {
    "lenName": 16,
    "lenType": 16,
    "lenVar": 40
   },
   "kernels_config": {
    "python": {
     "delete_cmd_postfix": "",
     "delete_cmd_prefix": "del ",
     "library": "var_list.py",
     "varRefreshCmd": "print(var_dic_list())"
    },
    "r": {
     "delete_cmd_postfix": ") ",
     "delete_cmd_prefix": "rm(",
     "library": "var_list.r",
     "varRefreshCmd": "cat(var_dic_list()) "
    }
   },
   "types_to_exclude": [
    "module",
    "function",
    "builtin_function_or_method",
    "instance",
    "_Feature"
   ],
   "window_display": false
  }
 },
 "nbformat": 4,
 "nbformat_minor": 2
}
