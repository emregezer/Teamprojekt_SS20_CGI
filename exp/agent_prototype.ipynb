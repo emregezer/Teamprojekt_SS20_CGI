{
 "cells": [
  {
   "cell_type": "markdown",
   "metadata": {
    "tags": []
   },
   "source": [
    "# Steps\n",
    "1. Get dataset of 20 stock from database (.csv)\n",
    "2. "
   ]
  },
  {
   "cell_type": "markdown",
   "metadata": {},
   "source": [
    "# Further ideas\n",
    "1. Give multiple subsets of stocks (e.g. \"Becky\" as a strategy)\n"
   ]
  },
  {
   "cell_type": "markdown",
   "metadata": {},
   "source": [
    "# Selected stocks\n",
    "20 stocks were randomly selected from the S&P 500 pool"
   ]
  },
  {
   "cell_type": "code",
   "execution_count": 10,
   "metadata": {
    "ExecuteTime": {
     "end_time": "2020-06-25T17:14:38.945058Z",
     "start_time": "2020-06-25T17:14:38.942056Z"
    }
   },
   "outputs": [],
   "source": [
    "stock_symbols = ['MCD', 'ESS', 'ABC', 'PFE', 'MA', 'GWW', 'AOS', 'GD', 'YUM', 'LOW', 'ALB', 'IFF', 'TPR', 'CB', 'ANTM', 'WAT', 'CPB', 'IPGP', 'SBUX', 'HSY']"
   ]
  },
  {
   "cell_type": "markdown",
   "metadata": {},
   "source": [
    "## Imports"
   ]
  },
  {
   "cell_type": "code",
   "execution_count": 1,
   "metadata": {
    "ExecuteTime": {
     "end_time": "2020-07-01T14:37:06.471004Z",
     "start_time": "2020-07-01T14:37:05.238942Z"
    }
   },
   "outputs": [],
   "source": [
    "import requests\n",
    "import os\n",
    "import pandas as pd\n",
    "import time\n",
    "from alpha_vantage.timeseries import TimeSeries"
   ]
  },
  {
   "cell_type": "markdown",
   "metadata": {},
   "source": [
    "## Getting the data"
   ]
  },
  {
   "cell_type": "code",
   "execution_count": 2,
   "metadata": {
    "ExecuteTime": {
     "end_time": "2020-07-01T14:37:08.223882Z",
     "start_time": "2020-07-01T14:37:08.221881Z"
    }
   },
   "outputs": [],
   "source": [
    "API_KEY = \"1077F37TLBGNSVY2\""
   ]
  },
  {
   "cell_type": "code",
   "execution_count": null,
   "metadata": {},
   "outputs": [],
   "source": [
    "full_data = []\n",
    "\n",
    "for symbol in stock_symbols:\n",
    "    query_params[\"symbol\"] = symbol\n",
    "    resp = requests.get(url=url, params=query_params)\n",
    "    resp.raise_for_status()"
   ]
  },
  {
   "cell_type": "code",
   "execution_count": 3,
   "metadata": {
    "ExecuteTime": {
     "end_time": "2020-07-01T14:37:11.151256Z",
     "start_time": "2020-07-01T14:37:11.147263Z"
    }
   },
   "outputs": [],
   "source": [
    "STANDARD_DELAY = 60 // 5\n",
    "DATA_DIR_PATH = r\"C:\\Users\\Jonas\\Desktop\\CGI\\dev\\exp\\data\"\n",
    "ts = TimeSeries(key=API_KEY, output_format=\"pandas\")\n",
    "\n",
    "CSV_COLS = [\"symbol\", \"date\", \"1. open\", \"2. high\", \"3. low\", \"4. close\", \"5. adjusted close\",\n",
    "           \"6. volume\", \"7. dividend amount\", \"8. split coefficient\"]"
   ]
  },
  {
   "cell_type": "markdown",
   "metadata": {},
   "source": [
    "### Writing from av API to .csv files"
   ]
  },
  {
   "cell_type": "code",
   "execution_count": 11,
   "metadata": {
    "ExecuteTime": {
     "end_time": "2020-06-25T17:19:52.256189Z",
     "start_time": "2020-06-25T17:14:40.870217Z"
    },
    "tags": []
   },
   "outputs": [
    {
     "name": "stdout",
     "output_type": "stream",
     "text": [
      "Appended stock MCD. Waiting...\n",
      "Appended stock ESS. Waiting...\n",
      "Appended stock ABC. Waiting...\n",
      "Appended stock PFE. Waiting...\n",
      "Appended stock MA. Waiting...\n",
      "Appended stock GWW. Waiting...\n",
      "Appended stock AOS. Waiting...\n",
      "Appended stock GD. Waiting...\n",
      "Appended stock YUM. Waiting...\n",
      "Appended stock LOW. Waiting...\n",
      "Appended stock ALB. Waiting...\n",
      "Appended stock IFF. Waiting...\n",
      "Appended stock TPR. Waiting...\n",
      "Appended stock CB. Waiting...\n",
      "Appended stock ANTM. Waiting...\n",
      "Appended stock WAT. Waiting...\n",
      "Appended stock CPB. Waiting...\n",
      "Appended stock IPGP. Waiting...\n",
      "Appended stock SBUX. Waiting...\n",
      "Appended stock HSY. Waiting...\n"
     ]
    }
   ],
   "source": [
    "master_df = pd.DataFrame(columns=CSV_COLS)\n",
    "\n",
    "for idx, symbol in enumerate(stock_symbols):\n",
    "#     file_path = os.path.join(DATA_DIR_PATH, f\"{symbol}.csv\")\n",
    "    df, _ = ts.get_daily_adjusted(symbol=symbol, outputsize=\"full\")\n",
    "    df[\"symbol\"] = symbol\n",
    "    master_df.append(other=df)\n",
    "    print(f\"Appended stock {idx}: <{symbol}>. Waiting...\")\n",
    "    time.sleep(STANDARD_DELAY)"
   ]
  },
  {
   "cell_type": "markdown",
   "metadata": {},
   "source": [
    "### Merging all .csv files"
   ]
  },
  {
   "cell_type": "code",
   "execution_count": 4,
   "metadata": {
    "ExecuteTime": {
     "end_time": "2020-07-01T14:37:15.492925Z",
     "start_time": "2020-07-01T14:37:15.483915Z"
    }
   },
   "outputs": [],
   "source": [
    "file_names = [os.path.join(DATA_DIR_PATH, f) for f in os.listdir(DATA_DIR_PATH) if os.path.isfile(os.path.join(DATA_DIR_PATH, f))]"
   ]
  },
  {
   "cell_type": "code",
   "execution_count": 5,
   "metadata": {
    "ExecuteTime": {
     "end_time": "2020-07-01T14:37:16.787456Z",
     "start_time": "2020-07-01T14:37:16.524887Z"
    }
   },
   "outputs": [],
   "source": [
    "df_list = []\n",
    "for f in file_names:\n",
    "    df = pd.read_csv(f, index_col=None, header=0)\n",
    "    df['symbol'] = f.split(\"\\\\\")[-1].split(\".\")[0]\n",
    "    df_list.append(df)\n",
    "    \n",
    "df = pd.concat(df_list, axis=0, ignore_index=True)"
   ]
  },
  {
   "cell_type": "markdown",
   "metadata": {},
   "source": [
    "### Preprocessing"
   ]
  },
  {
   "cell_type": "code",
   "execution_count": 45,
   "metadata": {
    "ExecuteTime": {
     "end_time": "2020-07-01T15:43:26.855914Z",
     "start_time": "2020-07-01T15:43:26.851922Z"
    }
   },
   "outputs": [],
   "source": [
    "PRICE_COLUMNS = [\n",
    "    'date',\n",
    "    'open',\n",
    "    'high',\n",
    "    'low',\n",
    "    'close',\n",
    "    'adjusted_close',\n",
    "    'volume',\n",
    "    'dividend_amount',\n",
    "    'split_coefficient',\n",
    "    'symbol'\n",
    "]"
   ]
  },
  {
   "cell_type": "code",
   "execution_count": 40,
   "metadata": {
    "ExecuteTime": {
     "end_time": "2020-07-01T15:41:57.716889Z",
     "start_time": "2020-07-01T15:41:57.712888Z"
    }
   },
   "outputs": [],
   "source": [
    "cols_to_rename = {}\n",
    "for c in df.columns:\n",
    "    cols_to_rename[c] = \"\".join(list(filter(lambda s: s.isalpha() or s == \" \", c))).strip()\n",
    "    cols_to_rename[c] = cols_to_rename[c].replace(\" \", \"_\")\n",
    "    \n",
    "df.rename(columns=cols_to_rename, inplace=True)"
   ]
  },
  {
   "cell_type": "code",
   "execution_count": 109,
   "metadata": {
    "ExecuteTime": {
     "end_time": "2020-07-01T16:44:49.211913Z",
     "start_time": "2020-07-01T16:44:49.195909Z"
    }
   },
   "outputs": [
    {
     "data": {
      "text/plain": [
       "date                 datetime64[ns]\n",
       "open                        float64\n",
       "high                        float64\n",
       "low                         float64\n",
       "close                       float64\n",
       "adjusted_close              float64\n",
       "volume                      float64\n",
       "dividend_amount             float64\n",
       "split_coefficient           float64\n",
       "symbol                       string\n",
       "dtype: object"
      ]
     },
     "execution_count": 109,
     "metadata": {},
     "output_type": "execute_result"
    }
   ],
   "source": [
    "df['date'] = pd.to_datetime(df['date'])\n",
    "df['symbol'] = df['symbol'].astype(\"string\") # even though this doesn't do anything\n",
    "df.dtypes"
   ]
  },
  {
   "cell_type": "markdown",
   "metadata": {},
   "source": [
    "# Algorithm"
   ]
  },
  {
   "cell_type": "markdown",
   "metadata": {},
   "source": [
    "## Class definitions"
   ]
  },
  {
   "cell_type": "code",
   "execution_count": 118,
   "metadata": {
    "ExecuteTime": {
     "end_time": "2020-07-01T16:48:38.024887Z",
     "start_time": "2020-07-01T16:48:38.016885Z"
    }
   },
   "outputs": [],
   "source": [
    "class Market:\n",
    "    def __init__(self, prices: pd.DataFrame, name: str = \"\"):\n",
    "        assert all([c in PRICE_COLUMNS for c in prices.columns]), \\\n",
    "            \"Wrong columns!\"\n",
    "        self.prices = prices\n",
    "        # sort by date ascending, then by symbol descending\n",
    "        self.prices.sort_values(by=[\"date\", \"symbol\"], inplace=True, ascending=[True, False])\n",
    "        self.name = name or \"default_market\"\n",
    "    \n",
    "    @property\n",
    "    def symbols(self):\n",
    "        return list(self.prices.symbol.unique())\n",
    "    \n",
    "    def __iter__(self):\n",
    "        self.curr = 1\n",
    "        return self\n",
    "    \n",
    "    def __len__(self):\n",
    "        return len(self.prices)\n",
    "    \n",
    "    def __next__(self) -> pd.DataFrame:\n",
    "        if self.curr <= len(self.prices):\n",
    "            self.max_date = self.prices.date.sort_values().unique()[self.curr - 1]\n",
    "            state = self.prices.loc[self.prices.date <= self.max_date]\n",
    "            self.curr += 1\n",
    "            return state\n",
    "        else:\n",
    "            raise StopIteration\n",
    "    \n",
    "    def __str__(self):\n",
    "        return f\"Market [{self.name}] (current market_date: {self.max_date})\""
   ]
  },
  {
   "cell_type": "markdown",
   "metadata": {},
   "source": [
    "#### Calculation of dividend yield\n",
    "__On certain date (choose 01/02):__\n",
    "1. Get the last paid dividend amount from prev. year := `dividend_payment`\n",
    "2. Multiply by the number of times dividends were paid last year (mostly: 4) := `dividend_total`\n",
    "3. divide `dividend_total` by `current_share_price`"
   ]
  },
  {
   "cell_type": "code",
   "execution_count": 122,
   "metadata": {
    "ExecuteTime": {
     "end_time": "2020-07-01T17:28:19.960606Z",
     "start_time": "2020-07-01T17:28:19.956605Z"
    }
   },
   "outputs": [],
   "source": [
    "from collections import namedtuple\n",
    "\n",
    "Transaction = namedtuple(\n",
    "    \"Transaction\", \n",
    "    field_names=[\"symbol\", \"amount\", \"date\", \"stock_price\", \"total_value\"]\n",
    ")"
   ]
  },
  {
   "cell_type": "code",
   "execution_count": 56,
   "metadata": {
    "ExecuteTime": {
     "end_time": "2020-07-01T15:53:02.134540Z",
     "start_time": "2020-07-01T15:53:02.131539Z"
    }
   },
   "outputs": [],
   "source": [
    "class Agent:\n",
    "    def __init__(self, name: str, starting_capital: float, market: Market):\n",
    "        self.name = name\n",
    "        self.cash = starting_capital\n",
    "        self.market = market\n",
    "        self.trading_history = []"
   ]
  },
  {
   "cell_type": "code",
   "execution_count": 127,
   "metadata": {
    "ExecuteTime": {
     "end_time": "2020-07-01T17:30:19.598278Z",
     "start_time": "2020-07-01T17:30:19.595277Z"
    }
   },
   "outputs": [],
   "source": [
    "t = Transaction(symbol=\"AAPL\", amount=10, date=\"2020-01-01\", stock_price=3000.00, total_value=30_000.00)"
   ]
  },
  {
   "cell_type": "code",
   "execution_count": 128,
   "metadata": {
    "ExecuteTime": {
     "end_time": "2020-07-01T17:30:23.054440Z",
     "start_time": "2020-07-01T17:30:23.050439Z"
    }
   },
   "outputs": [
    {
     "data": {
      "text/plain": [
       "10"
      ]
     },
     "execution_count": 128,
     "metadata": {},
     "output_type": "execute_result"
    }
   ],
   "source": [
    "t.amount"
   ]
  }
 ],
 "metadata": {
  "kernelspec": {
   "display_name": "Python 3",
   "language": "python",
   "name": "python3"
  },
  "language_info": {
   "codemirror_mode": {
    "name": "ipython",
    "version": 3
   },
   "file_extension": ".py",
   "mimetype": "text/x-python",
   "name": "python",
   "nbconvert_exporter": "python",
   "pygments_lexer": "ipython3",
   "version": "3.7.6"
  },
  "toc": {
   "base_numbering": 1,
   "nav_menu": {},
   "number_sections": true,
   "sideBar": true,
   "skip_h1_title": false,
   "title_cell": "Table of Contents",
   "title_sidebar": "Contents",
   "toc_cell": false,
   "toc_position": {},
   "toc_section_display": true,
   "toc_window_display": true
  },
  "varInspector": {
   "cols": {
    "lenName": 16,
    "lenType": 16,
    "lenVar": 40
   },
   "kernels_config": {
    "python": {
     "delete_cmd_postfix": "",
     "delete_cmd_prefix": "del ",
     "library": "var_list.py",
     "varRefreshCmd": "print(var_dic_list())"
    },
    "r": {
     "delete_cmd_postfix": ") ",
     "delete_cmd_prefix": "rm(",
     "library": "var_list.r",
     "varRefreshCmd": "cat(var_dic_list()) "
    }
   },
   "types_to_exclude": [
    "module",
    "function",
    "builtin_function_or_method",
    "instance",
    "_Feature"
   ],
   "window_display": false
  }
 },
 "nbformat": 4,
 "nbformat_minor": 2
}
