{
 "cells": [
  {
   "cell_type": "markdown",
   "metadata": {
    "tags": []
   },
   "source": [
    "# Steps\n",
    "✅ Get dataset of 20 stock from database (.csv) <br>\n",
    "⬜ "
   ]
  },
  {
   "cell_type": "markdown",
   "metadata": {},
   "source": [
    "# Further ideas\n",
    "1. Give multiple subsets of stocks (e.g. \"Becky\" as a strategy)\n"
   ]
  },
  {
   "cell_type": "markdown",
   "metadata": {},
   "source": [
    "# Selected stocks\n",
    "20 stocks were randomly selected from the S&P 500 pool"
   ]
  },
  {
   "cell_type": "code",
   "execution_count": 3,
   "metadata": {
    "ExecuteTime": {
     "end_time": "2020-07-05T13:56:13.928784Z",
     "start_time": "2020-07-05T13:56:13.924792Z"
    }
   },
   "outputs": [],
   "source": [
    "stock_symbols = ['MCD', 'ESS', 'ABC', 'PFE', 'MA', 'GWW', 'AOS', 'GD', 'YUM', 'LOW', 'ALB', 'IFF', 'TPR', 'CB', 'ANTM', 'WAT', 'CPB', 'IPGP', 'SBUX', 'HSY']"
   ]
  },
  {
   "cell_type": "markdown",
   "metadata": {},
   "source": [
    "## Imports"
   ]
  },
  {
   "cell_type": "code",
   "execution_count": 1,
   "metadata": {
    "ExecuteTime": {
     "end_time": "2020-07-06T08:49:41.034242Z",
     "start_time": "2020-07-06T08:49:40.188048Z"
    }
   },
   "outputs": [],
   "source": [
    "from typing import Dict\n",
    "\n",
    "from collections import namedtuple\n",
    "import requests\n",
    "import os\n",
    "import pandas as pd\n",
    "import time\n",
    "from alpha_vantage.timeseries import TimeSeries"
   ]
  },
  {
   "cell_type": "markdown",
   "metadata": {},
   "source": [
    "## Getting the data"
   ]
  },
  {
   "cell_type": "code",
   "execution_count": null,
   "metadata": {},
   "outputs": [],
   "source": [
    "full_data = []\n",
    "\n",
    "for symbol in stock_symbols:\n",
    "    query_params[\"symbol\"] = symbol\n",
    "    resp = requests.get(url=url, params=query_params)\n",
    "    resp.raise_for_status()"
   ]
  },
  {
   "cell_type": "code",
   "execution_count": 2,
   "metadata": {
    "ExecuteTime": {
     "end_time": "2020-07-06T08:49:44.268215Z",
     "start_time": "2020-07-06T08:49:44.265215Z"
    }
   },
   "outputs": [],
   "source": [
    "API_KEY = \"1077F37TLBGNSVY2\"\n",
    "\n",
    "STANDARD_DELAY = 60 // 5\n",
    "DATA_DIR_PATH = r\"C:\\Users\\Jonas\\Desktop\\CGI\\dev\\exp\\data\"\n",
    "ts = TimeSeries(key=API_KEY, output_format=\"pandas\")\n",
    "\n",
    "CSV_COLS = [\"symbol\", \"date\", \"1. open\", \"2. high\", \"3. low\", \"4. close\", \"5. adjusted close\",\n",
    "           \"6. volume\", \"7. dividend amount\", \"8. split coefficient\"]"
   ]
  },
  {
   "cell_type": "markdown",
   "metadata": {},
   "source": [
    "### Writing from av API to .csv files"
   ]
  },
  {
   "cell_type": "code",
   "execution_count": 9,
   "metadata": {
    "ExecuteTime": {
     "end_time": "2020-07-03T10:21:41.713955Z",
     "start_time": "2020-07-03T10:21:13.499483Z"
    },
    "tags": []
   },
   "outputs": [
    {
     "name": "stdout",
     "output_type": "stream",
     "text": [
      "Appended stock 0: <MCD>. Waiting...\n",
      "Appended stock 1: <ESS>. Waiting...\n"
     ]
    },
    {
     "ename": "KeyboardInterrupt",
     "evalue": "",
     "output_type": "error",
     "traceback": [
      "\u001b[1;31m---------------------------------------------------------------------------\u001b[0m",
      "\u001b[1;31mKeyboardInterrupt\u001b[0m                         Traceback (most recent call last)",
      "\u001b[1;32m<ipython-input-9-eef2c1d16c1e>\u001b[0m in \u001b[0;36m<module>\u001b[1;34m\u001b[0m\n\u001b[0;32m      7\u001b[0m     \u001b[0mmaster_df\u001b[0m\u001b[1;33m.\u001b[0m\u001b[0mappend\u001b[0m\u001b[1;33m(\u001b[0m\u001b[0mother\u001b[0m\u001b[1;33m=\u001b[0m\u001b[0mdf\u001b[0m\u001b[1;33m)\u001b[0m\u001b[1;33m\u001b[0m\u001b[1;33m\u001b[0m\u001b[0m\n\u001b[0;32m      8\u001b[0m     \u001b[0mprint\u001b[0m\u001b[1;33m(\u001b[0m\u001b[1;34mf\"Appended stock {idx}: <{symbol}>. Waiting...\"\u001b[0m\u001b[1;33m)\u001b[0m\u001b[1;33m\u001b[0m\u001b[1;33m\u001b[0m\u001b[0m\n\u001b[1;32m----> 9\u001b[1;33m     \u001b[0mtime\u001b[0m\u001b[1;33m.\u001b[0m\u001b[0msleep\u001b[0m\u001b[1;33m(\u001b[0m\u001b[0mSTANDARD_DELAY\u001b[0m\u001b[1;33m)\u001b[0m\u001b[1;33m\u001b[0m\u001b[1;33m\u001b[0m\u001b[0m\n\u001b[0m",
      "\u001b[1;31mKeyboardInterrupt\u001b[0m: "
     ]
    }
   ],
   "source": [
    "master_df = pd.DataFrame(columns=CSV_COLS)\n",
    "\n",
    "for idx, symbol in enumerate(stock_symbols):\n",
    "#     file_path = os.path.join(DATA_DIR_PATH, f\"{symbol}.csv\")\n",
    "    df, _ = ts.get_daily_adjusted(symbol=symbol, outputsize=\"full\")\n",
    "    df[\"symbol\"] = symbol\n",
    "    master_df.append(other=df)\n",
    "    print(f\"Appended stock {idx}: <{symbol}>. Waiting...\")\n",
    "    time.sleep(STANDARD_DELAY)"
   ]
  },
  {
   "cell_type": "markdown",
   "metadata": {},
   "source": [
    "### Merging all .csv files"
   ]
  },
  {
   "cell_type": "code",
   "execution_count": 3,
   "metadata": {
    "ExecuteTime": {
     "end_time": "2020-07-06T08:49:48.485183Z",
     "start_time": "2020-07-06T08:49:48.473172Z"
    }
   },
   "outputs": [],
   "source": [
    "file_names = [os.path.join(DATA_DIR_PATH, f) for f in os.listdir(DATA_DIR_PATH) \\\n",
    "                  if os.path.isfile(os.path.join(DATA_DIR_PATH, f))]"
   ]
  },
  {
   "cell_type": "code",
   "execution_count": 4,
   "metadata": {
    "ExecuteTime": {
     "end_time": "2020-07-06T08:49:49.424280Z",
     "start_time": "2020-07-06T08:49:49.170214Z"
    }
   },
   "outputs": [],
   "source": [
    "df_list = []\n",
    "for f in file_names:\n",
    "    df = pd.read_csv(f, index_col=None, header=0)\n",
    "    df['symbol'] = f.split(\"\\\\\")[-1].split(\".\")[0]\n",
    "    df_list.append(df)\n",
    "    \n",
    "df = pd.concat(df_list, axis=0, ignore_index=True)"
   ]
  },
  {
   "cell_type": "markdown",
   "metadata": {},
   "source": [
    "### Preprocessing"
   ]
  },
  {
   "cell_type": "code",
   "execution_count": 5,
   "metadata": {
    "ExecuteTime": {
     "end_time": "2020-07-06T08:49:50.556195Z",
     "start_time": "2020-07-06T08:49:50.554195Z"
    }
   },
   "outputs": [],
   "source": [
    "PRICE_COLUMNS = [\n",
    "    'date',\n",
    "    'open',\n",
    "    'high',\n",
    "    'low',\n",
    "    'close',\n",
    "    'adjusted_close',\n",
    "    'volume',\n",
    "    'dividend_amount',\n",
    "    'split_coefficient',\n",
    "    'symbol',\n",
    "]"
   ]
  },
  {
   "cell_type": "code",
   "execution_count": 6,
   "metadata": {
    "ExecuteTime": {
     "end_time": "2020-07-06T08:49:52.832246Z",
     "start_time": "2020-07-06T08:49:52.817243Z"
    }
   },
   "outputs": [],
   "source": [
    "cols_to_rename = {}\n",
    "for c in df.columns:\n",
    "    cols_to_rename[c] = \"\".join(list(filter(lambda s: s.isalpha() or s == \" \", c))).strip()\n",
    "    cols_to_rename[c] = cols_to_rename[c].replace(\" \", \"_\")\n",
    "    \n",
    "df.rename(columns=cols_to_rename, inplace=True)"
   ]
  },
  {
   "cell_type": "code",
   "execution_count": 7,
   "metadata": {
    "ExecuteTime": {
     "end_time": "2020-07-06T08:49:58.928282Z",
     "start_time": "2020-07-06T08:49:58.841263Z"
    }
   },
   "outputs": [
    {
     "data": {
      "text/plain": [
       "date                 datetime64[ns]\n",
       "open                        float64\n",
       "high                        float64\n",
       "low                         float64\n",
       "close                       float64\n",
       "adjusted_close              float64\n",
       "volume                      float64\n",
       "dividend_amount             float64\n",
       "split_coefficient           float64\n",
       "symbol                       string\n",
       "dtype: object"
      ]
     },
     "execution_count": 7,
     "metadata": {},
     "output_type": "execute_result"
    }
   ],
   "source": [
    "df['date'] = pd.to_datetime(df['date'])\n",
    "df['symbol'] = df['symbol'].astype(\"string\") # even though this doesn't do anything\n",
    "df.dtypes"
   ]
  },
  {
   "cell_type": "markdown",
   "metadata": {},
   "source": [
    "# Algorithm"
   ]
  },
  {
   "cell_type": "markdown",
   "metadata": {},
   "source": [
    "## Class definitions"
   ]
  },
  {
   "cell_type": "code",
   "execution_count": 29,
   "metadata": {
    "ExecuteTime": {
     "end_time": "2020-07-06T09:36:51.908252Z",
     "start_time": "2020-07-06T09:36:51.896250Z"
    }
   },
   "outputs": [],
   "source": [
    "class Market:\n",
    "    def __init__(self, prices: pd.DataFrame, name: str = None):\n",
    "        assert not prices.empty and all([c in PRICE_COLUMNS for c in prices.columns]), \\\n",
    "            \"Wrong DataFrame format!\"\n",
    "        self.prices = prices\n",
    "        # sort by date ascending, then by symbol descending\n",
    "        self.prices.sort_values(by=[\"date\", \"symbol\"], inplace=True, ascending=[True, False])\n",
    "        self.name = name or \"default_market\"\n",
    "        self.max_date = None\n",
    "    \n",
    "    @property\n",
    "    def available_symbols(self):\n",
    "        return list(self.prices.symbol.unique())\n",
    "    \n",
    "    @property\n",
    "    def current_date(self):\n",
    "        return self.max_date or \"Market has not yet started!\"\n",
    "    \n",
    "    def pay_dividends(self, stock_portfolio):\n",
    "        dividend_amount = 0\n",
    "        for stock, amount in stock_portfolio.items():\n",
    "            dividend_mask = (self.prices.date == self.max_date) & (self.prices.symbol == stock)\n",
    "            dividend_amount += self.prices.loc[dividend_mask].dividend_amount.sum() * amount\n",
    "        if dividend_amount:\n",
    "            print(f\"Paid agents dividends of {dividend_amount}!\")\n",
    "        return dividend_amount\n",
    "    \n",
    "    def __iter__(self):\n",
    "        self.curr = 1\n",
    "        return self\n",
    "    \n",
    "    def __len__(self):\n",
    "        return len(self.prices)\n",
    "    \n",
    "    def __next__(self) -> pd.DataFrame:\n",
    "        if self.curr < len(self.prices.date.unique()):\n",
    "            \n",
    "            self.max_date = self.prices.date.sort_values().unique()[self.curr - 1]\n",
    "            state = self.prices.loc[self.prices.date <= self.max_date]\n",
    "            self.curr += 1\n",
    "            return state\n",
    "        else:\n",
    "            #  we are on the last date of the prices > exit the iteration\n",
    "            raise StopIteration\n",
    "    \n",
    "    def __str__(self):\n",
    "        return f\"Market [{self.name}] (current market_date: {self.max_date})\""
   ]
  },
  {
   "cell_type": "markdown",
   "metadata": {},
   "source": [
    "#### Calculation of dividend yield\n",
    "__On certain date (choose ~~01/02~~ first trading date of year):__\n",
    "1. Get the last paid dividend amount from prev. year := `dividend_payment`\n",
    "2. Multiply by the number of times dividends were paid last year (mostly: 4) := `dividend_total`\n",
    "3. divide `dividend_total` by `current_share_price`"
   ]
  },
  {
   "cell_type": "markdown",
   "metadata": {},
   "source": [
    "### Strategy Interface"
   ]
  },
  {
   "cell_type": "code",
   "execution_count": 10,
   "metadata": {
    "ExecuteTime": {
     "end_time": "2020-07-06T08:50:13.998183Z",
     "start_time": "2020-07-06T08:50:13.994182Z"
    }
   },
   "outputs": [],
   "source": [
    "class Strategy:\n",
    "    def __init__(self, name: str = None):\n",
    "        self.name = name or type(self).__name__\n",
    "    \n",
    "    def weight(self, market_state: pd.DataFrame) -> Dict[str, float]:\n",
    "        pass"
   ]
  },
  {
   "cell_type": "markdown",
   "metadata": {},
   "source": [
    "__Desired code behavior:__\n",
    "1. ✅ Check if it's the first trading date of that year\n",
    "2. ✅ Check if we have a previous year\n",
    "3. ✅ Get the last-paid dividend of prev. year := `last_paid_div`\n",
    "4. ✅ Get count of dividends payed of last year per stock := `num_div_paid`\n",
    "5. ✅ last_paid_div * num_div_paid := `projected_div_amount`\n",
    "6. ✅Apply weights (how? => all in on highest value stock)"
   ]
  },
  {
   "cell_type": "markdown",
   "metadata": {},
   "source": [
    "#### Strategy implementation - Dogs of the Stocks"
   ]
  },
  {
   "cell_type": "code",
   "execution_count": 69,
   "metadata": {
    "ExecuteTime": {
     "end_time": "2020-07-06T10:51:27.147184Z",
     "start_time": "2020-07-06T10:51:27.131181Z"
    }
   },
   "outputs": [],
   "source": [
    "class DogsOfTheStocks(Strategy):\n",
    "    def __init__(self, top_n_stocks: int = 10, *args, **kwargs):\n",
    "        super().__init__(*args, **kwargs)\n",
    "        self.top_n_stocks = top_n_stocks\n",
    "    \n",
    "    def weight(self, market_state: pd.DataFrame) -> Dict[str, float]:\n",
    "        # make default weight map\n",
    "        weights = {}\n",
    "        stocks = set(market_state.symbol.unique())\n",
    "        for stock in stocks:\n",
    "            weights[stock] = 0.\n",
    "        \n",
    "        current_date = market_state.date.max()\n",
    "        if current_date.year == market_state.date.min().year:\n",
    "            # there is no previous year\n",
    "            return weights\n",
    "        \n",
    "        if current_date != market_state.loc[market_state.date.dt.year == current_date.year].date.min():\n",
    "            # it's not the first trading day of the current year\n",
    "            return weights\n",
    "        \n",
    "        prev_year = current_date.year - 1\n",
    "        last_paid_divs = {}\n",
    "        # all dividends paid last year\n",
    "        dividends_paid_last_year_mask = (market_state.dividend_amount != 0.) & (market_state.date.dt.year == prev_year)\n",
    "        divs = market_state.loc[dividends_paid_last_year_mask].sort_values(by=\"date\")\n",
    "        div_yields = []\n",
    "        for stock in stocks:\n",
    "            # for every stock:\n",
    "            # > get last paid dividend of prev. year\n",
    "            # > get amount of times dividends were paid last year\n",
    "            last_paid_divs[stock] = {}\n",
    "            try:\n",
    "                # if there were dividends paid last year, grab the last one\n",
    "                last_paid_divs[stock][\"amount\"] = divs.loc[divs.symbol == stock].dividend_amount.values[-1]\n",
    "            except IndexError:\n",
    "                # there were no dividends paid last year\n",
    "                last_paid_divs[stock][\"amount\"] = 0\n",
    "            last_paid_divs[stock][\"times_paid\"] = len(divs.loc[divs.symbol == stock])\n",
    "\n",
    "        for stock, dividend_data in last_paid_divs.items():\n",
    "            # for every stock: multiply last paid dividend by number of times div\n",
    "            # were paid last year,\n",
    "            # and divide by the current stock price\n",
    "            current_price_mask = (market_state.date == current_date) &\\\n",
    "                (market_state.symbol == stock)\n",
    "            current_price = market_state.loc[current_price_mask].close.values[0]\n",
    "            current_stock = (stock, dividend_data[\"amount\"] * dividend_data[\"times_paid\"] / current_price)\n",
    "            div_yields.append(current_stock)\n",
    "\n",
    "            # pick stock with highest relative dividend value,\n",
    "            # and  assign weight of 1\n",
    "            # TODO(jonas): weight relative to %share of total\n",
    "        div_yields.sort(key=lambda t: t[1], reverse=True)\n",
    "        div_yields = div_yields[:self.top_n_stocks]\n",
    "        total_yield_sum = sum([t[1] for t in div_yields])\n",
    "        for symbol, div_yield in div_yields:\n",
    "            weights[symbol] = div_yield / total_yield_sum\n",
    "        \n",
    "        return weights"
   ]
  },
  {
   "cell_type": "markdown",
   "metadata": {},
   "source": [
    "### Agent"
   ]
  },
  {
   "cell_type": "code",
   "execution_count": 59,
   "metadata": {
    "ExecuteTime": {
     "end_time": "2020-07-06T10:48:28.227346Z",
     "start_time": "2020-07-06T10:48:28.217343Z"
    }
   },
   "outputs": [],
   "source": [
    "class Agent:\n",
    "    def __init__(self, starting_capital: float, market: Market, strategy: Strategy, name: str):\n",
    "        # TODO(jonas): implement agent getting new cash every [x interval]\n",
    "        self.cash = starting_capital\n",
    "        self.market = market\n",
    "        self.state = None\n",
    "        self.strategy = strategy\n",
    "        self.name = name\n",
    "        self.portfolio = {}\n",
    "        self.trading_history = []\n",
    "    \n",
    "    def run_simulation(self):\n",
    "        for state in market:\n",
    "            self.state = state\n",
    "            # agent gets dividends paid out\n",
    "            self.cash += self.market.pay_dividends(stock_portfolio=self.portfolio)\n",
    "            weights = self.strategy.weight(market_state=self.state)\n",
    "            for symbol, weight in weights.items():\n",
    "                if weight != 0:\n",
    "#                     assert sum(weights.values()) == 1, \"Not 1!\"\n",
    "                    print(weights)\n",
    "                    break\n",
    "                    \n",
    "    def buy(self, stock_symbol: str, stock_price: float, amount: int, date):\n",
    "        total_price = amount * stock_price\n",
    "        assert self.cash - total_price >= 0, \"Can't spend more than you have!\"\n",
    "        self.cash -= total_price\n",
    "        self.portfolio[stock_symbol] = self.portfolio.get(stock_symbol, 0) + amount\n",
    "        transaction = Transaction(\n",
    "            symbol=stock_symbol,\n",
    "            amount=amount,\n",
    "            date=date,\n",
    "            stock_price=stock_price,\n",
    "            total_value=total_price,\n",
    "        )\n",
    "        self.trading_history.append(transaction)"
   ]
  },
  {
   "cell_type": "markdown",
   "metadata": {},
   "source": [
    "### Definition of a trading transaction for the agent"
   ]
  },
  {
   "cell_type": "code",
   "execution_count": 13,
   "metadata": {
    "ExecuteTime": {
     "end_time": "2020-07-06T08:50:19.013185Z",
     "start_time": "2020-07-06T08:50:19.010183Z"
    }
   },
   "outputs": [],
   "source": [
    "Transaction = namedtuple(\n",
    "    \"Transaction\", \n",
    "    field_names=[\"symbol\", \"amount\", \"date\", \"stock_price\", \"total_value\"]\n",
    ")"
   ]
  },
  {
   "cell_type": "markdown",
   "metadata": {},
   "source": [
    "### Testing"
   ]
  },
  {
   "cell_type": "code",
   "execution_count": 70,
   "metadata": {
    "ExecuteTime": {
     "end_time": "2020-07-06T10:51:35.052392Z",
     "start_time": "2020-07-06T10:51:29.498894Z"
    }
   },
   "outputs": [
    {
     "name": "stderr",
     "output_type": "stream",
     "text": [
      "C:\\Users\\Jonas\\Anaconda3\\lib\\site-packages\\ipykernel_launcher.py:7: SettingWithCopyWarning: \n",
      "A value is trying to be set on a copy of a slice from a DataFrame\n",
      "\n",
      "See the caveats in the documentation: https://pandas.pydata.org/pandas-docs/stable/user_guide/indexing.html#returning-a-view-versus-a-copy\n",
      "  import sys\n"
     ]
    },
    {
     "name": "stdout",
     "output_type": "stream",
     "text": [
      "{'MA': 0.0, 'YUM': 0.0, 'SBUX': 0.0830151364995818, 'ABC': 0.0, 'ANTM': 0.0, 'ALB': 0.0, 'MCD': 0.09298394988330076, 'AOS': 0.0, 'GD': 0.0, 'TPR': 0.11909315532237176, 'IPGP': 0.0, 'CB': 0.07956793733179522, 'ESS': 0.11624297531134166, 'PFE': 0.14004134113343283, 'GWW': 0.086599744956129, 'WAT': 0.0, 'LOW': 0.07136384158309933, 'HSY': 0.09331342668227365, 'CPB': 0.11777849129667402, 'IFF': 0.0}\n",
      "{'MA': 0.0, 'YUM': 0.0, 'SBUX': 0.07990537963517216, 'ABC': 0.0, 'ANTM': 0.0, 'ALB': 0.0, 'MCD': 0.09406257117263932, 'AOS': 0.0, 'GD': 0.08442755869375687, 'TPR': 0.10517507859448465, 'IPGP': 0.0, 'CB': 0.0818743995172445, 'ESS': 0.11223701661253818, 'PFE': 0.11223087772419095, 'GWW': 0.0, 'WAT': 0.0, 'LOW': 0.0, 'HSY': 0.09775778539382442, 'CPB': 0.1548899485385234, 'IFF': 0.07743938411762559}\n",
      "{'MA': 0.0, 'YUM': 0.0, 'SBUX': 0.0, 'ABC': 0.0, 'ANTM': 0.0, 'ALB': 0.07360522117016303, 'MCD': 0.09053482128526907, 'AOS': 0.07306404561538374, 'GD': 0.08313425545563664, 'TPR': 0.18225738680967984, 'IPGP': 0.0, 'CB': 0.0, 'ESS': 0.09507321763026658, 'PFE': 0.13376096547190403, 'GWW': 0.0, 'WAT': 0.0, 'LOW': 0.0, 'HSY': 0.07808819266472283, 'CPB': 0.10496960805203896, 'IFF': 0.08551228584493537}\n"
     ]
    }
   ],
   "source": [
    "market = Market(prices=df.loc[df.date.dt.year.isin([2017, 2018, 2019, 2020])], name=\"test\")\n",
    "strategy = DogsOfTheStocks(name=\"DogsOfTheStocks\")\n",
    "agent = Agent(\n",
    "    starting_capital=10_000,\n",
    "    market=market,\n",
    "    strategy=strategy,\n",
    "    name=\"test\"\n",
    ")\n",
    "\n",
    "agent.run_simulation()"
   ]
  },
  {
   "cell_type": "code",
   "execution_count": 127,
   "metadata": {
    "ExecuteTime": {
     "end_time": "2020-07-01T17:30:19.598278Z",
     "start_time": "2020-07-01T17:30:19.595277Z"
    }
   },
   "outputs": [],
   "source": [
    "t = Transaction(symbol=\"AAPL\", amount=10, date=\"2020-01-01\", stock_price=3000.00, total_value=30_000.00)"
   ]
  },
  {
   "cell_type": "code",
   "execution_count": 128,
   "metadata": {
    "ExecuteTime": {
     "end_time": "2020-07-01T17:30:23.054440Z",
     "start_time": "2020-07-01T17:30:23.050439Z"
    }
   },
   "outputs": [
    {
     "data": {
      "text/plain": [
       "10"
      ]
     },
     "execution_count": 128,
     "metadata": {},
     "output_type": "execute_result"
    }
   ],
   "source": [
    "t.amount"
   ]
  },
  {
   "cell_type": "markdown",
   "metadata": {},
   "source": [
    "# To-Do list\n",
    "1. ✅ Make agent more intelligent (weighting of stocks)\n",
    "2. ⬜ implement agent getting new cash every x interval\n",
    "3. ✅ agent gets dividends\n",
    "4. ✅ dividend amount adapts to amount of stocks agent has\n",
    "5. ⬜ agent buys stuff"
   ]
  },
  {
   "cell_type": "code",
   "execution_count": null,
   "metadata": {},
   "outputs": [],
   "source": []
  }
 ],
 "metadata": {
  "kernelspec": {
   "display_name": "Python 3",
   "language": "python",
   "name": "python3"
  },
  "language_info": {
   "codemirror_mode": {
    "name": "ipython",
    "version": 3
   },
   "file_extension": ".py",
   "mimetype": "text/x-python",
   "name": "python",
   "nbconvert_exporter": "python",
   "pygments_lexer": "ipython3",
   "version": "3.7.6"
  },
  "toc": {
   "base_numbering": 1,
   "nav_menu": {},
   "number_sections": true,
   "sideBar": true,
   "skip_h1_title": false,
   "title_cell": "Table of Contents",
   "title_sidebar": "Contents",
   "toc_cell": false,
   "toc_position": {
    "height": "calc(100% - 180px)",
    "left": "10px",
    "top": "150px",
    "width": "363px"
   },
   "toc_section_display": true,
   "toc_window_display": true
  },
  "varInspector": {
   "cols": {
    "lenName": 16,
    "lenType": 16,
    "lenVar": 40
   },
   "kernels_config": {
    "python": {
     "delete_cmd_postfix": "",
     "delete_cmd_prefix": "del ",
     "library": "var_list.py",
     "varRefreshCmd": "print(var_dic_list())"
    },
    "r": {
     "delete_cmd_postfix": ") ",
     "delete_cmd_prefix": "rm(",
     "library": "var_list.r",
     "varRefreshCmd": "cat(var_dic_list()) "
    }
   },
   "types_to_exclude": [
    "module",
    "function",
    "builtin_function_or_method",
    "instance",
    "_Feature"
   ],
   "window_display": false
  }
 },
 "nbformat": 4,
 "nbformat_minor": 2
}
