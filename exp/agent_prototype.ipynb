{
 "cells": [
  {
   "cell_type": "markdown",
   "metadata": {
    "tags": []
   },
   "source": [
    "# Steps\n",
    "✅ Get dataset of 20 stock from database (.csv) <br>\n",
    "⬜ "
   ]
  },
  {
   "cell_type": "markdown",
   "metadata": {},
   "source": [
    "# Further ideas\n",
    "1. Give multiple subsets of stocks (e.g. \"Becky\" as a strategy)\n"
   ]
  },
  {
   "cell_type": "markdown",
   "metadata": {},
   "source": [
    "# Selected stocks\n",
    "20 stocks were randomly selected from the S&P 500 pool"
   ]
  },
  {
   "cell_type": "code",
   "execution_count": 1,
   "metadata": {
    "ExecuteTime": {
     "end_time": "2020-07-27T12:42:34.902093Z",
     "start_time": "2020-07-27T12:42:34.898101Z"
    }
   },
   "outputs": [],
   "source": [
    "stock_symbols = ['MCD', 'ESS', 'ABC', 'PFE', 'MA', 'GWW', 'AOS', 'GD', 'YUM', 'LOW', 'ALB', 'IFF', 'TPR', 'CB', 'ANTM', 'WAT', 'CPB', 'IPGP', 'SBUX', 'HSY']"
   ]
  },
  {
   "cell_type": "markdown",
   "metadata": {},
   "source": [
    "## Imports"
   ]
  },
  {
   "cell_type": "code",
   "execution_count": 139,
   "metadata": {
    "ExecuteTime": {
     "end_time": "2020-07-27T16:30:39.248125Z",
     "start_time": "2020-07-27T16:30:39.243124Z"
    }
   },
   "outputs": [],
   "source": [
    "# type hinting imports\n",
    "from typing import Dict\n",
    "from pandas._libs.tslibs.timestamps import Timestamp\n",
    "\n",
    "from collections import namedtuple\n",
    "import pprint\n",
    "import math\n",
    "import requests\n",
    "import os\n",
    "import pandas as pd\n",
    "import time\n",
    "from alpha_vantage.timeseries import TimeSeries"
   ]
  },
  {
   "cell_type": "markdown",
   "metadata": {},
   "source": [
    "## Getting the data"
   ]
  },
  {
   "cell_type": "code",
   "execution_count": null,
   "metadata": {},
   "outputs": [],
   "source": [
    "full_data = []\n",
    "\n",
    "for symbol in stock_symbols:\n",
    "    query_params[\"symbol\"] = symbol\n",
    "    resp = requests.get(url=url, params=query_params)\n",
    "    resp.raise_for_status()"
   ]
  },
  {
   "cell_type": "code",
   "execution_count": 3,
   "metadata": {
    "ExecuteTime": {
     "end_time": "2020-07-27T12:42:47.820068Z",
     "start_time": "2020-07-27T12:42:47.815066Z"
    }
   },
   "outputs": [],
   "source": [
    "API_KEY = \"1077F37TLBGNSVY2\"\n",
    "\n",
    "STANDARD_DELAY = 60 // 5\n",
    "DATA_DIR_PATH = r\"C:\\Users\\Jonas\\Desktop\\CGI\\dev\\exp\\data\"\n",
    "ts = TimeSeries(key=API_KEY, output_format=\"pandas\")\n",
    "\n",
    "CSV_COLS = [\"symbol\", \"date\", \"1. open\", \"2. high\", \"3. low\", \"4. close\", \"5. adjusted close\",\n",
    "           \"6. volume\", \"7. dividend amount\", \"8. split coefficient\"]"
   ]
  },
  {
   "cell_type": "markdown",
   "metadata": {},
   "source": [
    "### Writing from av API to .csv files"
   ]
  },
  {
   "cell_type": "code",
   "execution_count": 9,
   "metadata": {
    "ExecuteTime": {
     "end_time": "2020-07-03T10:21:41.713955Z",
     "start_time": "2020-07-03T10:21:13.499483Z"
    },
    "tags": []
   },
   "outputs": [
    {
     "name": "stdout",
     "output_type": "stream",
     "text": [
      "Appended stock 0: <MCD>. Waiting...\n",
      "Appended stock 1: <ESS>. Waiting...\n"
     ]
    },
    {
     "ename": "KeyboardInterrupt",
     "evalue": "",
     "output_type": "error",
     "traceback": [
      "\u001b[1;31m---------------------------------------------------------------------------\u001b[0m",
      "\u001b[1;31mKeyboardInterrupt\u001b[0m                         Traceback (most recent call last)",
      "\u001b[1;32m<ipython-input-9-eef2c1d16c1e>\u001b[0m in \u001b[0;36m<module>\u001b[1;34m\u001b[0m\n\u001b[0;32m      7\u001b[0m     \u001b[0mmaster_df\u001b[0m\u001b[1;33m.\u001b[0m\u001b[0mappend\u001b[0m\u001b[1;33m(\u001b[0m\u001b[0mother\u001b[0m\u001b[1;33m=\u001b[0m\u001b[0mdf\u001b[0m\u001b[1;33m)\u001b[0m\u001b[1;33m\u001b[0m\u001b[1;33m\u001b[0m\u001b[0m\n\u001b[0;32m      8\u001b[0m     \u001b[0mprint\u001b[0m\u001b[1;33m(\u001b[0m\u001b[1;34mf\"Appended stock {idx}: <{symbol}>. Waiting...\"\u001b[0m\u001b[1;33m)\u001b[0m\u001b[1;33m\u001b[0m\u001b[1;33m\u001b[0m\u001b[0m\n\u001b[1;32m----> 9\u001b[1;33m     \u001b[0mtime\u001b[0m\u001b[1;33m.\u001b[0m\u001b[0msleep\u001b[0m\u001b[1;33m(\u001b[0m\u001b[0mSTANDARD_DELAY\u001b[0m\u001b[1;33m)\u001b[0m\u001b[1;33m\u001b[0m\u001b[1;33m\u001b[0m\u001b[0m\n\u001b[0m",
      "\u001b[1;31mKeyboardInterrupt\u001b[0m: "
     ]
    }
   ],
   "source": [
    "master_df = pd.DataFrame(columns=CSV_COLS)\n",
    "\n",
    "for idx, symbol in enumerate(stock_symbols):\n",
    "#     file_path = os.path.join(DATA_DIR_PATH, f\"{symbol}.csv\")\n",
    "    df, _ = ts.get_daily_adjusted(symbol=symbol, outputsize=\"full\")\n",
    "    df[\"symbol\"] = symbol\n",
    "    master_df.append(other=df)\n",
    "    print(f\"Appended stock {idx}: <{symbol}>. Waiting...\")\n",
    "    time.sleep(STANDARD_DELAY)"
   ]
  },
  {
   "cell_type": "markdown",
   "metadata": {},
   "source": [
    "### Merging all .csv files"
   ]
  },
  {
   "cell_type": "code",
   "execution_count": 4,
   "metadata": {
    "ExecuteTime": {
     "end_time": "2020-07-27T12:42:51.473976Z",
     "start_time": "2020-07-27T12:42:51.464982Z"
    }
   },
   "outputs": [],
   "source": [
    "file_names = [os.path.join(DATA_DIR_PATH, f) for f in os.listdir(DATA_DIR_PATH) \\\n",
    "                  if os.path.isfile(os.path.join(DATA_DIR_PATH, f))]"
   ]
  },
  {
   "cell_type": "code",
   "execution_count": 5,
   "metadata": {
    "ExecuteTime": {
     "end_time": "2020-07-27T12:42:52.258100Z",
     "start_time": "2020-07-27T12:42:52.001041Z"
    }
   },
   "outputs": [],
   "source": [
    "df_list = []\n",
    "for f in file_names:\n",
    "    df = pd.read_csv(f, index_col=None, header=0)\n",
    "    df['symbol'] = f.split(\"\\\\\")[-1].split(\".\")[0]\n",
    "    df_list.append(df)\n",
    "    \n",
    "df = pd.concat(df_list, axis=0, ignore_index=True)"
   ]
  },
  {
   "cell_type": "markdown",
   "metadata": {},
   "source": [
    "### Preprocessing"
   ]
  },
  {
   "cell_type": "code",
   "execution_count": 6,
   "metadata": {
    "ExecuteTime": {
     "end_time": "2020-07-27T12:42:53.173415Z",
     "start_time": "2020-07-27T12:42:53.169414Z"
    }
   },
   "outputs": [],
   "source": [
    "PRICE_COLUMNS = [\n",
    "    'date',\n",
    "    'open',\n",
    "    'high',\n",
    "    'low',\n",
    "    'close',\n",
    "    'adjusted_close',\n",
    "    'volume',\n",
    "    'dividend_amount',\n",
    "    'split_coefficient',\n",
    "    'symbol',\n",
    "]"
   ]
  },
  {
   "cell_type": "code",
   "execution_count": 7,
   "metadata": {
    "ExecuteTime": {
     "end_time": "2020-07-27T12:42:53.778081Z",
     "start_time": "2020-07-27T12:42:53.761079Z"
    }
   },
   "outputs": [],
   "source": [
    "cols_to_rename = {}\n",
    "for c in df.columns:\n",
    "    cols_to_rename[c] = \"\".join(list(filter(lambda s: s.isalpha() or s == \" \", c))).strip()\n",
    "    cols_to_rename[c] = cols_to_rename[c].replace(\" \", \"_\")\n",
    "    \n",
    "df.rename(columns=cols_to_rename, inplace=True)"
   ]
  },
  {
   "cell_type": "code",
   "execution_count": 8,
   "metadata": {
    "ExecuteTime": {
     "end_time": "2020-07-27T12:42:54.274092Z",
     "start_time": "2020-07-27T12:42:54.193073Z"
    }
   },
   "outputs": [
    {
     "data": {
      "text/plain": [
       "date                 datetime64[ns]\n",
       "open                        float64\n",
       "high                        float64\n",
       "low                         float64\n",
       "close                       float64\n",
       "adjusted_close              float64\n",
       "volume                      float64\n",
       "dividend_amount             float64\n",
       "split_coefficient           float64\n",
       "symbol                       string\n",
       "dtype: object"
      ]
     },
     "execution_count": 8,
     "metadata": {},
     "output_type": "execute_result"
    }
   ],
   "source": [
    "df['date'] = pd.to_datetime(df['date'])\n",
    "df['symbol'] = df['symbol'].astype(\"string\") # even though this doesn't do anything\n",
    "df.dtypes"
   ]
  },
  {
   "cell_type": "markdown",
   "metadata": {},
   "source": [
    "# Algorithm"
   ]
  },
  {
   "cell_type": "markdown",
   "metadata": {},
   "source": [
    "## Class definitions"
   ]
  },
  {
   "cell_type": "code",
   "execution_count": 42,
   "metadata": {
    "ExecuteTime": {
     "end_time": "2020-07-27T15:02:29.082418Z",
     "start_time": "2020-07-27T15:02:29.068415Z"
    }
   },
   "outputs": [],
   "source": [
    "class Market:\n",
    "    def __init__(self, prices: pd.DataFrame, name: str = None):\n",
    "        assert not prices.empty and all([c in PRICE_COLUMNS for c in prices.columns]), \\\n",
    "            \"Wrong DataFrame format!\"\n",
    "        self.prices = prices\n",
    "        # sort by date ascending, then by symbol descending\n",
    "        self.prices.sort_values(by=[\"date\", \"symbol\"], inplace=True, ascending=[True, False])\n",
    "        self.name = name or \"default_market\"\n",
    "        self.max_date = None\n",
    "    \n",
    "    @property\n",
    "    def available_symbols(self):\n",
    "        return list(self.prices.symbol.unique())\n",
    "    \n",
    "    @property\n",
    "    def current_date(self):\n",
    "        return self.max_date or \"Market has not yet started!\"\n",
    "    \n",
    "    def get_most_recent_price(self, symbol: str) -> float:\n",
    "        stock_mask = (self.prices.date == self.max_date) & (self.prices.symbol == symbol)\n",
    "        return self.prices.loc[stock_mask].adjusted_close.values[0]\n",
    "        \n",
    "    def pay_dividends(self, stock_portfolio: Dict[str, float]) -> float:\n",
    "        if not stock_portfolio:\n",
    "            return 0.\n",
    "        dividend_amount = 0\n",
    "        for stock, amount in stock_portfolio.items():\n",
    "            dividend_mask = (self.prices.date == self.max_date) & (self.prices.symbol == stock)\n",
    "            dividend_amount += self.prices.loc[dividend_mask].dividend_amount.sum() * amount\n",
    "        if dividend_amount:\n",
    "            print(f\"Paid agents dividends of {dividend_amount}!\")\n",
    "        return dividend_amount\n",
    "    \n",
    "    def __iter__(self):\n",
    "        self.curr = 1\n",
    "        return self\n",
    "    \n",
    "    def __len__(self):\n",
    "        return len(self.prices)\n",
    "    \n",
    "    def __next__(self) -> pd.DataFrame:\n",
    "        if self.curr < len(self.prices.date.unique()):\n",
    "            \n",
    "            self.max_date = self.prices.date.sort_values().unique()[self.curr - 1]\n",
    "            state = self.prices.loc[self.prices.date <= self.max_date]\n",
    "            self.curr += 1\n",
    "            return state\n",
    "        else:\n",
    "            #  we are on the last date of the prices > exit the iteration\n",
    "            raise StopIteration\n",
    "    \n",
    "    def __str__(self):\n",
    "        return f\"Market [{self.name}] (current market_date: {self.max_date})\""
   ]
  },
  {
   "cell_type": "markdown",
   "metadata": {},
   "source": [
    "#### Calculation of dividend yield\n",
    "__On certain date (choose ~~01/02~~ first trading date of year):__\n",
    "1. Get the last paid dividend amount from prev. year := `dividend_payment`\n",
    "2. Multiply by the number of times dividends were paid last year (mostly: 4) := `dividend_total`\n",
    "3. divide `dividend_total` by `current_share_price`"
   ]
  },
  {
   "cell_type": "markdown",
   "metadata": {},
   "source": [
    "### Strategy Interface"
   ]
  },
  {
   "cell_type": "code",
   "execution_count": 123,
   "metadata": {
    "ExecuteTime": {
     "end_time": "2020-07-27T16:02:48.950658Z",
     "start_time": "2020-07-27T16:02:48.946657Z"
    }
   },
   "outputs": [],
   "source": [
    "class Strategy:\n",
    "    def __init__(self, name: str = None):\n",
    "        self.name = name or type(self).__name__\n",
    "    \n",
    "    def weight(self, market_state: pd.DataFrame, agent_portfolio: Dict[str, float]) -> Dict[str, float]:\n",
    "        pass"
   ]
  },
  {
   "cell_type": "markdown",
   "metadata": {},
   "source": [
    "__Desired code behavior:__\n",
    "1. ✅ Check if it's the first trading date of that year\n",
    "2. ✅ Check if we have a previous year\n",
    "3. ✅ Get the last-paid dividend of prev. year := `last_paid_div`\n",
    "4. ✅ Get count of dividends payed of last year per stock := `num_div_paid`\n",
    "5. ✅ last_paid_div * num_div_paid := `projected_div_amount`\n",
    "6. ✅Apply weights (how? => all in on highest value stock)"
   ]
  },
  {
   "cell_type": "markdown",
   "metadata": {},
   "source": [
    "#### Strategy implementation - Dogs of the Stocks"
   ]
  },
  {
   "cell_type": "code",
   "execution_count": 135,
   "metadata": {
    "ExecuteTime": {
     "end_time": "2020-07-27T16:27:46.331913Z",
     "start_time": "2020-07-27T16:27:46.309907Z"
    }
   },
   "outputs": [],
   "source": [
    "class DogsOfTheStocks(Strategy):\n",
    "    def __init__(self, top_n_stocks: int=10, *args, **kwargs):\n",
    "        super().__init__(*args, **kwargs)\n",
    "        self.top_n_stocks = top_n_stocks\n",
    "    \n",
    "    def weight(self, market_state: pd.DataFrame, \n",
    "               agent_portfolio: Dict[str, float],\n",
    "              is_recommendation: bool=False) -> Dict[str, float]:\n",
    "        # make default weight map\n",
    "        weights = {}\n",
    "        stocks = set(market_state.symbol.unique())\n",
    "        for stock in stocks:\n",
    "            weights[stock] = 0.\n",
    "        \n",
    "        current_date = market_state.date.max()\n",
    "        if current_date.year == market_state.date.min().year:\n",
    "            # there is no previous year\n",
    "            return weights\n",
    "        if not is_recommendation: \n",
    "            if current_date != market_state.loc[market_state.date.dt.year == current_date.year].date.min():\n",
    "                # it's not the first trading day of the current year\n",
    "                return weights\n",
    "        \n",
    "        prev_year = current_date.year - 1\n",
    "        last_paid_divs = {}\n",
    "        # all dividends paid last year\n",
    "        dividends_paid_last_year_mask = (market_state.dividend_amount != 0.) & (market_state.date.dt.year == prev_year)\n",
    "        divs = market_state.loc[dividends_paid_last_year_mask].sort_values(by=\"date\")\n",
    "        div_yields = []\n",
    "        for stock in stocks:\n",
    "            # for every stock:\n",
    "            # > get last paid dividend of prev. year\n",
    "            # > get amount of times dividends were paid last year\n",
    "            last_paid_divs[stock] = {}\n",
    "            try:\n",
    "                # if there were dividends paid last year, grab the last one\n",
    "                last_paid_divs[stock][\"amount\"] = divs.loc[divs.symbol == stock].dividend_amount.values[-1]\n",
    "            except IndexError:\n",
    "                # there were no dividends paid last year\n",
    "                last_paid_divs[stock][\"amount\"] = 0\n",
    "            last_paid_divs[stock][\"times_paid\"] = len(divs.loc[divs.symbol == stock])\n",
    "\n",
    "        for stock, dividend_data in last_paid_divs.items():\n",
    "            # for every stock: multiply last paid dividend by number of times div\n",
    "            # were paid last year,\n",
    "            # and divide by the current stock price\n",
    "            current_price_mask = (market_state.date == current_date) &\\\n",
    "                (market_state.symbol == stock)\n",
    "            current_price = market_state.loc[current_price_mask].close.values[0]\n",
    "            current_stock = (stock, dividend_data[\"amount\"] * dividend_data[\"times_paid\"] / current_price)\n",
    "            div_yields.append(current_stock)\n",
    "\n",
    "        # assign weights based on relative share of total yields\n",
    "        div_yields.sort(key=lambda t: t[1], reverse=True)\n",
    "        div_yields = div_yields[:self.top_n_stocks]\n",
    "        total_yield_sum = sum([t[1] for t in div_yields])\n",
    "        for symbol, div_yield in div_yields:\n",
    "            weights[symbol] = div_yield / total_yield_sum\n",
    "        \n",
    "        # rebalancing\n",
    "        for symbol in agent_portfolio.keys():\n",
    "            # Are my current stocks no longer the highest dividend yield stocks? > sell them\n",
    "            if weights.get(symbol, 0) <= 0:\n",
    "                weights[symbol] = -1\n",
    "        \n",
    "        return weights\n",
    "    \n",
    "    def recommend(self, market_state: pd.DataFrame):\n",
    "        return self.weight(market_state=market_state, agent_portfolio={}, is_recommendation=True)"
   ]
  },
  {
   "cell_type": "markdown",
   "metadata": {},
   "source": [
    "### Definition of a trading transaction for the agent"
   ]
  },
  {
   "cell_type": "code",
   "execution_count": 12,
   "metadata": {
    "ExecuteTime": {
     "end_time": "2020-07-27T12:43:01.388232Z",
     "start_time": "2020-07-27T12:43:01.385231Z"
    }
   },
   "outputs": [],
   "source": [
    "Transaction = namedtuple(\n",
    "    \"Transaction\", \n",
    "    field_names=[\"symbol\", \"amount\", \"date\", \"stock_price\", \"total_value\"]\n",
    ")"
   ]
  },
  {
   "cell_type": "markdown",
   "metadata": {},
   "source": [
    "### Agent"
   ]
  },
  {
   "cell_type": "code",
   "execution_count": 156,
   "metadata": {
    "ExecuteTime": {
     "end_time": "2020-07-27T16:37:55.715267Z",
     "start_time": "2020-07-27T16:37:55.690261Z"
    }
   },
   "outputs": [],
   "source": [
    "class Agent:\n",
    "    def __init__(self, starting_capital: float, market: Market, strategy: Strategy, name: str):\n",
    "        # TODO(jonas): implement agent getting new cash every [x interval]\n",
    "        self.starting_capital = starting_capital\n",
    "        self.cash = starting_capital\n",
    "        self.market = market\n",
    "        self.strategy = strategy\n",
    "        self.name = name\n",
    "        self.state = None\n",
    "        self.portfolio = {}\n",
    "        self.trading_history = []\n",
    "\n",
    "    def run_simulation(self):\n",
    "        for state in market:\n",
    "            self.state = state\n",
    "            # agent gets dividends paid out accd. to his portfolio\n",
    "            self.cash += self.market.pay_dividends(stock_portfolio=self.portfolio)\n",
    "            weights = self.strategy.weight(market_state=self.state, agent_portfolio=self.portfolio)\n",
    "            if any([weight != 0 for weight in weights.values()]):\n",
    "                # any non-0 weights? > evaluate\n",
    "                for symbol, weight in filter(lambda x: x[1] < 0, weights.items()):\n",
    "                    # First: look at negative weights := sell recommendations\n",
    "                    current_stock_price = self.market.get_most_recent_price(symbol=symbol)\n",
    "                    sell_transaction = self.build_transaction(\n",
    "                            stock_symbol=symbol,\n",
    "                            stock_price=current_stock_price,\n",
    "                            amount=int(weight * self.portfolio.get(symbol)),\n",
    "                            date=self.market.max_date,\n",
    "                        )\n",
    "                    print(f\"Making sell transaction: {sell_transaction}\")\n",
    "                    self.sell(sell_transaction)\n",
    "                amount_to_spend_for_each = (1 / self.strategy.top_n_stocks) * self.cash\n",
    "                for symbol, weight in filter(lambda x: x[1] > 0, weights.items()):\n",
    "                    current_stock_price = self.market.get_most_recent_price(symbol=symbol)\n",
    "                    amount_of_stocks_to_buy = amount_to_spend_for_each // current_stock_price\n",
    "                    purchase_transaction = self.build_transaction(\n",
    "                        stock_symbol=symbol,\n",
    "                        stock_price=current_stock_price,\n",
    "                        amount=amount_of_stocks_to_buy,\n",
    "                        date=self.market.max_date,\n",
    "                    )\n",
    "                    print(f\"Making purchase transaction: {purchase_transaction}\")\n",
    "                    self.buy(purchase_transaction)\n",
    "    \n",
    "    @staticmethod\n",
    "    def build_transaction(\n",
    "            stock_symbol: str,\n",
    "            stock_price: float,\n",
    "            amount: int,\n",
    "            date: Timestamp\n",
    "    ) -> Transaction:\n",
    "        total_price = amount * stock_price\n",
    "        return Transaction(\n",
    "            symbol=stock_symbol,\n",
    "            amount=amount,\n",
    "            date=date,\n",
    "            stock_price=stock_price,\n",
    "            total_value=total_price,\n",
    "        )\n",
    "    \n",
    "    def buy(self, transaction: Transaction):\n",
    "        total_price = transaction.amount * transaction.stock_price\n",
    "        assert self.cash - total_price >= 0, \"Can't spend more than you have!\"\n",
    "        self.cash -= total_price\n",
    "        self.portfolio[transaction.symbol] = self.portfolio.get(transaction.symbol, 0) + transaction.amount\n",
    "        self.trading_history.append(transaction)\n",
    "    \n",
    "    def sell(self, transaction: Transaction):\n",
    "        assert transaction.amount < 0, \"Sell transactions must have a negative amount!\"\n",
    "        # transaction.amount HAS TO BE NEGATIVE\n",
    "        total_price = transaction.amount * transaction.stock_price\n",
    "        self.cash -= total_price\n",
    "        self.portfolio[transaction.symbol] = self.portfolio.get(transaction.symbol, 0) + transaction.amount\n",
    "        if self.portfolio.get(transaction.symbol) == 0:\n",
    "            self.portfolio.pop(transaction.symbol, None)\n",
    "        self.trading_history.append(transaction)\n",
    "    \n",
    "    def print_stats(self):\n",
    "        spacing = \"\\n\\n=======================================\\n\\n\"\n",
    "        print(\"History of transactions in order of occurence:\\n\")\n",
    "        for trade in self.trading_history:\n",
    "            print(trade)\n",
    "        print(spacing)\n",
    "        print(\"Current portfolio:\\n\")\n",
    "        pprint.pprint(self.portfolio)\n",
    "        print(spacing)\n",
    "        print(\"Performance verdict:\\n\")\n",
    "        print(self.evaluate())\n",
    "        \n",
    "    \n",
    "    def get_own_total_value(self):\n",
    "        total_value = self.cash\n",
    "        for stock, amount in self.portfolio.items():\n",
    "            total_value += self.market.get_most_recent_price(symbol=stock) * amount\n",
    "        \n",
    "        return total_value\n",
    "    \n",
    "    def evaluate(self):\n",
    "        gains_or_losses_percentage = self.get_own_total_value() / self.starting_capital - 1\n",
    "        percentage_string = \"{0:.2%}\".format(gains_or_losses_percentage)\n",
    "        evaluation_sentence = f\"Gained {percentage_string}!\" if gains_or_losses_percentage > 0 \\\n",
    "            else f\"Lost {percentage_string}!\"\n",
    "        return evaluation_sentence\n",
    "    \n",
    "    def recommend(self):\n",
    "        return self.strategy.recommend(market_state=self.state)"
   ]
  },
  {
   "cell_type": "markdown",
   "metadata": {},
   "source": [
    "### Testing"
   ]
  },
  {
   "cell_type": "code",
   "execution_count": 154,
   "metadata": {
    "ExecuteTime": {
     "end_time": "2020-07-27T16:36:49.617641Z",
     "start_time": "2020-07-27T16:36:27.505968Z"
    }
   },
   "outputs": [
    {
     "name": "stderr",
     "output_type": "stream",
     "text": [
      "C:\\Users\\Jonas\\Anaconda3\\lib\\site-packages\\ipykernel_launcher.py:7: SettingWithCopyWarning: \n",
      "A value is trying to be set on a copy of a slice from a DataFrame\n",
      "\n",
      "See the caveats in the documentation: https://pandas.pydata.org/pandas-docs/stable/user_guide/indexing.html#returning-a-view-versus-a-copy\n",
      "  import sys\n"
     ]
    },
    {
     "name": "stdout",
     "output_type": "stream",
     "text": [
      "Making purchase transaction: Transaction(symbol='TPR', amount=63.0, date=numpy.datetime64('2017-01-03T00:00:00.000000000'), stock_price=31.5919, total_value=1990.2897)\n",
      "Making purchase transaction: Transaction(symbol='MCD', amount=18.0, date=numpy.datetime64('2017-01-03T00:00:00.000000000'), stock_price=109.6259, total_value=1973.2662)\n",
      "Making purchase transaction: Transaction(symbol='PFE', amount=69.0, date=numpy.datetime64('2017-01-03T00:00:00.000000000'), stock_price=28.9687, total_value=1998.8402999999998)\n",
      "Making purchase transaction: Transaction(symbol='ESS', amount=9.0, date=numpy.datetime64('2017-01-03T00:00:00.000000000'), stock_price=208.6438, total_value=1877.7942)\n",
      "Making purchase transaction: Transaction(symbol='YUM', amount=33.0, date=numpy.datetime64('2017-01-03T00:00:00.000000000'), stock_price=59.4908, total_value=1963.1964)\n",
      "Paid agents dividends of 9.9!\n",
      "Paid agents dividends of 22.080000000000002!\n",
      "Paid agents dividends of 16.919999999999998!\n",
      "Paid agents dividends of 21.293999999999997!\n",
      "Paid agents dividends of 15.75!\n",
      "Paid agents dividends of 9.9!\n",
      "Paid agents dividends of 22.080000000000002!\n",
      "Paid agents dividends of 16.919999999999998!\n",
      "Paid agents dividends of 21.293999999999997!\n",
      "Paid agents dividends of 15.75!\n",
      "Paid agents dividends of 9.9!\n",
      "Paid agents dividends of 22.080000000000002!\n",
      "Paid agents dividends of 16.919999999999998!\n",
      "Paid agents dividends of 21.293999999999997!\n",
      "Paid agents dividends of 15.75!\n",
      "Paid agents dividends of 22.080000000000002!\n",
      "Paid agents dividends of 9.9!\n",
      "Paid agents dividends of 18.18!\n",
      "Paid agents dividends of 21.293999999999997!\n",
      "Paid agents dividends of 15.75!\n",
      "Making sell transaction: Transaction(symbol='MCD', amount=-18, date=numpy.datetime64('2018-01-02T00:00:00.000000000'), stock_price=162.808, total_value=-2930.544)\n",
      "Making sell transaction: Transaction(symbol='YUM', amount=-33, date=numpy.datetime64('2018-01-02T00:00:00.000000000'), stock_price=78.1246, total_value=-2578.1118)\n",
      "Making purchase transaction: Transaction(symbol='TPR', amount=29.0, date=numpy.datetime64('2018-01-02T00:00:00.000000000'), stock_price=41.5863, total_value=1206.0027)\n",
      "Making purchase transaction: Transaction(symbol='HSY', amount=11.0, date=numpy.datetime64('2018-01-02T00:00:00.000000000'), stock_price=105.4908, total_value=1160.3988)\n",
      "Making purchase transaction: Transaction(symbol='PFE', amount=36.0, date=numpy.datetime64('2018-01-02T00:00:00.000000000'), stock_price=33.2413, total_value=1196.6868000000002)\n",
      "Making purchase transaction: Transaction(symbol='CPB', amount=27.0, date=numpy.datetime64('2018-01-02T00:00:00.000000000'), stock_price=43.5982, total_value=1177.1514)\n",
      "Making purchase transaction: Transaction(symbol='ESS', amount=5.0, date=numpy.datetime64('2018-01-02T00:00:00.000000000'), stock_price=224.7827, total_value=1123.9135)\n",
      "Paid agents dividends of 9.45!\n",
      "Paid agents dividends of 35.7!\n",
      "Paid agents dividends of 7.215999999999999!\n",
      "Paid agents dividends of 31.095999999999997!\n",
      "Paid agents dividends of 26.040000000000003!\n",
      "Paid agents dividends of 9.45!\n",
      "Paid agents dividends of 35.7!\n",
      "Paid agents dividends of 7.215999999999999!\n",
      "Paid agents dividends of 31.095999999999997!\n",
      "Paid agents dividends of 26.040000000000003!\n",
      "Paid agents dividends of 9.45!\n",
      "Paid agents dividends of 35.7!\n",
      "Paid agents dividends of 7.942!\n",
      "Paid agents dividends of 31.095999999999997!\n",
      "Paid agents dividends of 26.040000000000003!\n",
      "Paid agents dividends of 9.45!\n",
      "Paid agents dividends of 35.7!\n",
      "Paid agents dividends of 7.942!\n",
      "Paid agents dividends of 26.040000000000003!\n",
      "Making purchase transaction: Transaction(symbol='TPR', amount=3.0, date=numpy.datetime64('2019-01-02T00:00:00.000000000'), stock_price=32.2742, total_value=96.8226)\n",
      "Making purchase transaction: Transaction(symbol='HSY', amount=1.0, date=numpy.datetime64('2019-01-02T00:00:00.000000000'), stock_price=102.0207, total_value=102.0207)\n",
      "Making purchase transaction: Transaction(symbol='PFE', amount=2.0, date=numpy.datetime64('2019-01-02T00:00:00.000000000'), stock_price=40.8633, total_value=81.7266)\n",
      "Making purchase transaction: Transaction(symbol='CPB', amount=3.0, date=numpy.datetime64('2019-01-02T00:00:00.000000000'), stock_price=30.6856, total_value=92.05680000000001)\n",
      "Paid agents dividends of 10.5!\n",
      "Paid agents dividends of 38.519999999999996!\n",
      "Paid agents dividends of 8.664!\n",
      "Paid agents dividends of 32.11!\n",
      "Paid agents dividends of 27.3!\n",
      "Paid agents dividends of 10.5!\n",
      "Paid agents dividends of 38.519999999999996!\n",
      "Paid agents dividends of 8.664!\n",
      "Paid agents dividends of 32.11!\n",
      "Paid agents dividends of 27.3!\n",
      "Paid agents dividends of 10.5!\n",
      "Paid agents dividends of 38.519999999999996!\n",
      "Paid agents dividends of 9.276!\n",
      "Paid agents dividends of 32.11!\n",
      "Paid agents dividends of 27.3!\n",
      "Paid agents dividends of 10.5!\n",
      "Paid agents dividends of 38.519999999999996!\n",
      "Paid agents dividends of 9.276!\n",
      "Paid agents dividends of 32.0625!\n",
      "Paid agents dividends of 27.3!\n",
      "Making sell transaction: Transaction(symbol='HSY', amount=-12, date=numpy.datetime64('2020-01-02T00:00:00.000000000'), stock_price=142.4085, total_value=-1708.902)\n",
      "Making purchase transaction: Transaction(symbol='TPR', amount=18.0, date=numpy.datetime64('2020-01-02T00:00:00.000000000'), stock_price=26.5271, total_value=477.4878)\n",
      "Making purchase transaction: Transaction(symbol='MCD', amount=2.0, date=numpy.datetime64('2020-01-02T00:00:00.000000000'), stock_price=198.1761, total_value=396.3522)\n",
      "Making purchase transaction: Transaction(symbol='PFE', amount=12.0, date=numpy.datetime64('2020-01-02T00:00:00.000000000'), stock_price=38.3486, total_value=460.18319999999994)\n",
      "Making purchase transaction: Transaction(symbol='CPB', amount=10.0, date=numpy.datetime64('2020-01-02T00:00:00.000000000'), stock_price=47.7781, total_value=477.781)\n",
      "Making purchase transaction: Transaction(symbol='ESS', amount=1.0, date=numpy.datetime64('2020-01-02T00:00:00.000000000'), stock_price=295.5572, total_value=295.5572)\n",
      "Paid agents dividends of 14.0!\n",
      "Paid agents dividends of 45.22!\n",
      "Paid agents dividends of 2.5!\n",
      "Paid agents dividends of 38.1375!\n",
      "Paid agents dividends of 31.1625!\n",
      "Paid agents dividends of 14.0!\n",
      "Paid agents dividends of 45.22!\n",
      "Paid agents dividends of 2.5!\n"
     ]
    }
   ],
   "source": [
    "market = Market(prices=df.loc[df.date.dt.year.isin([2016, 2017, 2018, 2019, 2020])], name=\"test\")\n",
    "strategy = DogsOfTheStocks(name=\"DogsOfTheStocks\", top_n_stocks=5)\n",
    "agent = Agent(\n",
    "    starting_capital=10_000,\n",
    "    market=market,\n",
    "    strategy=strategy,\n",
    "    name=\"test\",\n",
    ")\n",
    "\n",
    "agent.run_simulation()"
   ]
  },
  {
   "cell_type": "code",
   "execution_count": 16,
   "metadata": {
    "ExecuteTime": {
     "end_time": "2020-07-27T14:41:43.030267Z",
     "start_time": "2020-07-27T14:41:43.026267Z"
    }
   },
   "outputs": [
    {
     "data": {
      "text/plain": [
       "10"
      ]
     },
     "execution_count": 16,
     "metadata": {},
     "output_type": "execute_result"
    }
   ],
   "source": [
    "t = Transaction(\n",
    "    symbol=\"AAPL\",\n",
    "    amount=10,\n",
    "    date=\"2020-01-01\",\n",
    "    stock_price=3_000.00,\n",
    "    total_value=30_000.00\n",
    ")\n",
    "\n",
    "t.amount"
   ]
  },
  {
   "cell_type": "markdown",
   "metadata": {},
   "source": [
    "# To-Do list\n",
    "1. ✅ Add attributes to Price model, re-pull prices from AV\n",
    "1. ⬜ Implement 1 preference for demo purposes\n",
    "1. ✅ Make agent more intelligent (weighting of stocks)\n",
    "2. ⬜ implement agent getting new cash every x interval\n",
    "3. ✅ agent gets dividends\n",
    "4. ✅ dividend amount adapts to amount of stocks agent has\n",
    "5. ✅ agent buys stuff"
   ]
  },
  {
   "cell_type": "code",
   "execution_count": null,
   "metadata": {},
   "outputs": [],
   "source": []
  }
 ],
 "metadata": {
  "kernelspec": {
   "display_name": "Python 3",
   "language": "python",
   "name": "python3"
  },
  "language_info": {
   "codemirror_mode": {
    "name": "ipython",
    "version": 3
   },
   "file_extension": ".py",
   "mimetype": "text/x-python",
   "name": "python",
   "nbconvert_exporter": "python",
   "pygments_lexer": "ipython3",
   "version": "3.7.6"
  },
  "toc": {
   "base_numbering": 1,
   "nav_menu": {},
   "number_sections": true,
   "sideBar": true,
   "skip_h1_title": false,
   "title_cell": "Table of Contents",
   "title_sidebar": "Contents",
   "toc_cell": false,
   "toc_position": {
    "height": "calc(100% - 180px)",
    "left": "10px",
    "top": "150px",
    "width": "356px"
   },
   "toc_section_display": true,
   "toc_window_display": true
  },
  "varInspector": {
   "cols": {
    "lenName": 16,
    "lenType": 16,
    "lenVar": 40
   },
   "kernels_config": {
    "python": {
     "delete_cmd_postfix": "",
     "delete_cmd_prefix": "del ",
     "library": "var_list.py",
     "varRefreshCmd": "print(var_dic_list())"
    },
    "r": {
     "delete_cmd_postfix": ") ",
     "delete_cmd_prefix": "rm(",
     "library": "var_list.r",
     "varRefreshCmd": "cat(var_dic_list()) "
    }
   },
   "types_to_exclude": [
    "module",
    "function",
    "builtin_function_or_method",
    "instance",
    "_Feature"
   ],
   "window_display": false
  }
 },
 "nbformat": 4,
 "nbformat_minor": 2
}
